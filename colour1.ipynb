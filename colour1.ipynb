{
 "cells": [
  {
   "cell_type": "code",
   "execution_count": 1,
   "metadata": {
    "collapsed": true
   },
   "outputs": [],
   "source": [
    "# import the necessary packages\n",
    "import numpy as np\n",
    "import cv2\n",
    " \n",
    "class RGBHistogram:\n",
    "    def __init__(self, bins):\n",
    "        # store the number of bins for the 3D histogram\n",
    "        self.bins = bins\n",
    " \n",
    "    def describe(self, image):\n",
    "        \n",
    "        # extract a 3D color histogram from the masked region of the\n",
    "        # image, using the supplied number of bins per channel; then\n",
    "        # normalize the histogram\n",
    "        hist = cv2.calcHist([image], [0, 1, 2],None, self.bins,\n",
    "            [0, 256, 0, 256, 0, 256])\n",
    "        hist = cv2.normalize(hist).flatten()\n",
    " \n",
    "        # return the histogram\n",
    "        return hist"
   ]
  },
  {
   "cell_type": "code",
   "execution_count": 2,
   "metadata": {
    "collapsed": true
   },
   "outputs": [],
   "source": [
    "import csv\n",
    " \n",
    "class Searcher:\n",
    "    def __init__(self, indexPath):\n",
    "        # store our index path\n",
    "        self.indexPath = indexPath\n",
    " \n",
    "    def search(self, queryFeatures, limit = 10):\n",
    "        # initialize our dictionary of results\n",
    "        results = {}\n",
    "        # open the index file for reading\n",
    "        with open(self.indexPath) as f:\n",
    "            # initialize the CSV reader\n",
    "            reader = csv.reader(f)\n",
    " \n",
    "            # loop over the rows in the index\n",
    "            for row in reader:\n",
    "                # parse out the image ID and features, then compute the\n",
    "                # chi-squared distance between the features in our index\n",
    "                # and our query features\n",
    "                features = [float(x) for x in row[1:]]\n",
    "                d = self.chi2_distance(features, queryFeatures)\n",
    " \n",
    "                # now that we have the distance between the two feature\n",
    "                # vectors, we can udpate the results dictionary -- the\n",
    "                # key is the current image ID in the index and the\n",
    "                # value is the distance we just computed, representing\n",
    "                # how 'similar' the image in the index is to our query\n",
    "                results[row[0]] = d\n",
    " \n",
    "            # close the reader\n",
    "            f.close()\n",
    " \n",
    "        # sort our results, so that the smaller distances (i.e. the\n",
    "        # more relevant images are at the front of the list)\n",
    "        results = sorted([(v, k) for (k, v) in results.items()])\n",
    " \n",
    "        # return our (limited) results\n",
    "        return results[:limit]\n",
    "    \n",
    "    def chi2_distance(self, histA, histB, eps = 15):\n",
    "        # compute the chi-squared distance\n",
    "        d = 0.5 * np.sum([((a - b) ** 2) / (a + b + eps)\n",
    "            for (a, b) in zip(histA, histB)])\n",
    " \n",
    "        # return the chi-squared distance\n",
    "        return d"
   ]
  },
  {
   "cell_type": "code",
   "execution_count": 3,
   "metadata": {
    "collapsed": false
   },
   "outputs": [],
   "source": [
    "import cv2\n",
    "import os\n",
    "import glob\n",
    "import pandas as pd\n",
    "'''\n",
    "# construct the argument parser and parse the arguments\n",
    "ap = argparse.ArgumentParser()\n",
    "ap.add_argument(\"-d\", \"--dataset\", required = True,\n",
    "    help = \"Path to the directory that contains the images to be indexed\")\n",
    "ap.add_argument(\"-i\", \"--index\", required = True,\n",
    "    help = \"Path to where the computed index will be stored\")\n",
    "args = vars(ap.parse_args())\n",
    "'''\n",
    " \n",
    "# initialize the color descriptor\n",
    "desc = RGBHistogram([2, 2, 2])\n",
    "# open the output index file for writing\n",
    "output1=[]\n",
    "output2=[]\n",
    "\n",
    "# use glob to grab the image paths and loop over them\n",
    "for imagePath in glob.glob('dataset/collared_tees/*'):\n",
    "    # extract the image ID (i.e. the unique filename) from the image\n",
    "    # path and load the image itself\n",
    "    k = imagePath[imagePath.rfind(\"/\") + 1:]\n",
    "    image = cv2.imread(imagePath)\n",
    " \n",
    "    # describe the image\n",
    "    features = desc.describe(image)\n",
    " \n",
    "    # write the features to file\n",
    "    features = [str(f) for f in features]\n",
    "    #output.write(\"%s,%s\\n\" % (imageID, \",\".join(features)))\n",
    "    output1.append(k)\n",
    "    output2.append(features)\n",
    "    \n",
    "# close the index file\n",
    "#output.close()\n",
    "output=np.column_stack((output1,output2))\n",
    "df = pd.DataFrame(output) \n",
    "df.to_csv('index1.csv',index=False, float_format=\"%f\")"
   ]
  },
  {
   "cell_type": "code",
   "execution_count": 4,
   "metadata": {
    "collapsed": false,
    "scrolled": true
   },
   "outputs": [
    {
     "data": {
      "text/plain": [
       "' \\n# display the query\\ncv2.imshow(\"Query\", query)\\ncv2.waitKey(0)\\n\\n# loop over the results\\nfor (score, resultID) in results:\\n    # load the result image and display it\\n    result = cv2.imread(\"dataset\"+ \"/\" + resultID)\\n    \\n    cv2.imshow(\"Result\", result)\\n    cv2.waitKey(0)\\n    '"
      ]
     },
     "execution_count": 4,
     "metadata": {},
     "output_type": "execute_result"
    }
   ],
   "source": [
    "#cd = ColorDescriptor((2, 2, 2))\n",
    "# load the query image and describe it\n",
    "query = cv2.imread('dataset/Untitled.jpg')\n",
    "features = desc.describe(query)\n",
    " \n",
    "# perform the search\n",
    "searcher = Searcher('index1.csv')\n",
    "results = searcher.search(features)\n",
    "''' \n",
    "# display the query\n",
    "cv2.imshow(\"Query\", query)\n",
    "cv2.waitKey(0)\n",
    "\n",
    "# loop over the results\n",
    "for (score, resultID) in results:\n",
    "    # load the result image and display it\n",
    "    result = cv2.imread(\"dataset\"+ \"/\" + resultID)\n",
    "    \n",
    "    cv2.imshow(\"Result\", result)\n",
    "    cv2.waitKey(0)\n",
    "    '''"
   ]
  },
  {
   "cell_type": "code",
   "execution_count": 5,
   "metadata": {
    "collapsed": false
   },
   "outputs": [
    {
     "data": {
      "text/plain": [
       "[(0.012056459374180581, 'collared_tees\\\\trainc5.jpg'),\n",
       " (0.012352810572673421, 'collared_tees\\\\tee75.jpg'),\n",
       " (0.013134419510061836, 'collared_tees\\\\tee71.jpeg'),\n",
       " (0.01387340725208033, 'collared_tees\\\\trainc24.jpg'),\n",
       " (0.013987613973821002, 'collared_tees\\\\tee73.jpeg'),\n",
       " (0.014336426494023141, 'collared_tees\\\\tee72.jpeg'),\n",
       " (0.018015225690452948, 'collared_tees\\\\tees159.jpg'),\n",
       " (0.020709481264265864, 'collared_tees\\\\c26.jpg'),\n",
       " (0.02156702036880695, 'collared_tees\\\\tee91.jpg'),\n",
       " (0.026272877611310176, 'collared_tees\\\\last2.jpg')]"
      ]
     },
     "execution_count": 5,
     "metadata": {},
     "output_type": "execute_result"
    }
   ],
   "source": [
    "results"
   ]
  },
  {
   "cell_type": "code",
   "execution_count": 7,
   "metadata": {
    "collapsed": false
   },
   "outputs": [],
   "source": [
    "import random\n",
    "json_helper = {}\n",
    "json_helper['randoms'] = [random.random() for _ in range(40)]"
   ]
  },
  {
   "cell_type": "code",
   "execution_count": 8,
   "metadata": {
    "collapsed": true
   },
   "outputs": [],
   "source": [
    "kl={}\n",
    "kl ['result'] = [resultID for(score, resultID) in results]\n"
   ]
  },
  {
   "cell_type": "code",
   "execution_count": 9,
   "metadata": {
    "collapsed": false
   },
   "outputs": [
    {
     "data": {
      "text/plain": [
       "{'result': ['collared_tees\\\\trainc5.jpg',\n",
       "  'collared_tees\\\\tee75.jpg',\n",
       "  'collared_tees\\\\tee71.jpeg',\n",
       "  'collared_tees\\\\trainc24.jpg',\n",
       "  'collared_tees\\\\tee73.jpeg',\n",
       "  'collared_tees\\\\tee72.jpeg',\n",
       "  'collared_tees\\\\tees159.jpg',\n",
       "  'collared_tees\\\\c26.jpg',\n",
       "  'collared_tees\\\\tee91.jpg',\n",
       "  'collared_tees\\\\last2.jpg']}"
      ]
     },
     "execution_count": 9,
     "metadata": {},
     "output_type": "execute_result"
    }
   ],
   "source": [
    "kl"
   ]
  },
  {
   "cell_type": "code",
   "execution_count": null,
   "metadata": {
    "collapsed": true
   },
   "outputs": [],
   "source": []
  },
  {
   "cell_type": "code",
   "execution_count": null,
   "metadata": {
    "collapsed": true
   },
   "outputs": [],
   "source": []
  },
  {
   "cell_type": "code",
   "execution_count": null,
   "metadata": {
    "collapsed": true
   },
   "outputs": [],
   "source": []
  },
  {
   "cell_type": "code",
   "execution_count": null,
   "metadata": {
    "collapsed": true
   },
   "outputs": [],
   "source": []
  },
  {
   "cell_type": "code",
   "execution_count": null,
   "metadata": {
    "collapsed": true
   },
   "outputs": [],
   "source": []
  },
  {
   "cell_type": "code",
   "execution_count": null,
   "metadata": {
    "collapsed": true
   },
   "outputs": [],
   "source": []
  },
  {
   "cell_type": "code",
   "execution_count": null,
   "metadata": {
    "collapsed": true
   },
   "outputs": [],
   "source": []
  },
  {
   "cell_type": "code",
   "execution_count": 6,
   "metadata": {
    "collapsed": false
   },
   "outputs": [
    {
     "name": "stdout",
     "output_type": "stream",
     "text": [
      "collared_tees\\trainc5.jpg\n",
      "collared_tees\\trainc5.jpg\n",
      "collared_tees\\trainc5.jpg\n",
      "collared_tees\\trainc5.jpg\n",
      "collared_tees\\trainc5.jpg\n",
      "collared_tees\\trainc5.jpg\n",
      "collared_tees\\trainc5.jpg\n",
      "collared_tees\\trainc5.jpg\n",
      "collared_tees\\trainc5.jpg\n",
      "collared_tees\\trainc5.jpg\n"
     ]
    }
   ],
   "source": [
    "result=[]\n",
    "for (score, resultID) in results:\n",
    "     result.append(resultID)\n",
    "     print result[0]"
   ]
  },
  {
   "cell_type": "code",
   "execution_count": 13,
   "metadata": {
    "collapsed": false
   },
   "outputs": [
    {
     "data": {
      "text/plain": [
       "'collared_tees\\\\trainc5.jpg'"
      ]
     },
     "execution_count": 13,
     "metadata": {},
     "output_type": "execute_result"
    }
   ],
   "source": [
    "result[0]"
   ]
  },
  {
   "cell_type": "code",
   "execution_count": null,
   "metadata": {
    "collapsed": true
   },
   "outputs": [],
   "source": []
  }
 ],
 "metadata": {
  "kernelspec": {
   "display_name": "Python 2",
   "language": "python",
   "name": "python2"
  },
  "language_info": {
   "codemirror_mode": {
    "name": "ipython",
    "version": 2
   },
   "file_extension": ".py",
   "mimetype": "text/x-python",
   "name": "python",
   "nbconvert_exporter": "python",
   "pygments_lexer": "ipython2",
   "version": "2.7.10"
  }
 },
 "nbformat": 4,
 "nbformat_minor": 0
}

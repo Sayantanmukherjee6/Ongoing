{
 "cells": [
  {
   "cell_type": "code",
   "execution_count": 2,
   "metadata": {
    "collapsed": false
   },
   "outputs": [],
   "source": [
    "from PIL import Image\n",
    "import os, sys\n",
    "\n",
    "#path = \"bag\\original dataset\\collared_tees_2\\\\\"\n",
    "path = \"bag\\dataset\\shirt2_new\\\\\"\n",
    "dirs = os.listdir( path )\n",
    "\n",
    "thumbs_path = path+\"/thumbnails\"\n",
    " \n",
    "#Erase the folder (and contents) if it exists so there is no conflict\n",
    "if os.path.exists(thumbs_path):\n",
    "    shutil.rmtree(thumbs_path)\n",
    "os.mkdir(thumbs_path)\n",
    "\n",
    "def resize():\n",
    "    for item in dirs:\n",
    "        if os.path.isfile(path+item):\n",
    "            outfile = path + \"/thumbnails/\" + str(item).split(\"\\\\\")[-1]\n",
    "            im = Image.open(path+item)\n",
    "            f, e = os.path.splitext(path+item)\n",
    "            imResize = im.resize((150,150), Image.ANTIALIAS)\n",
    "            imResize.save(outfile, 'JPEG', quality=90)\n",
    "\n",
    "resize()"
   ]
  },
  {
   "cell_type": "code",
   "execution_count": null,
   "metadata": {
    "collapsed": true
   },
   "outputs": [],
   "source": []
  },
  {
   "cell_type": "code",
   "execution_count": null,
   "metadata": {
    "collapsed": true
   },
   "outputs": [],
   "source": []
  },
  {
   "cell_type": "code",
   "execution_count": 10,
   "metadata": {
    "collapsed": false
   },
   "outputs": [],
   "source": [
    "from PIL import Image\n",
    "import os, sys,cv2\n",
    "\n",
    "#path = \"bag\\original dataset\\collared_tees_2\\\\\"\n",
    "path = \"bag/test\\\\\"\n",
    "m=\"ftest2.jpg\"\n",
    "dirs = os.listdir( path )"
   ]
  },
  {
   "cell_type": "code",
   "execution_count": 11,
   "metadata": {
    "collapsed": false
   },
   "outputs": [],
   "source": [
    "image= cv2.imread(path+m)                  m)"
   ]
  },
  {
   "cell_type": "code",
   "execution_count": 15,
   "metadata": {
    "collapsed": false
   },
   "outputs": [
    {
     "name": "stderr",
     "output_type": "stream",
     "text": [
      "C:\\Users\\admin\\Anaconda\\lib\\site-packages\\matplotlib\\transforms.py:1026: RuntimeWarning: invalid value encountered in not_equal\n",
      "  if np.any(self._points != other.get_points()):\n",
      "C:\\Users\\admin\\Anaconda\\lib\\site-packages\\matplotlib\\transforms.py:1611: RuntimeWarning: invalid value encountered in equal\n",
      "  return np.all(self.get_matrix() == other.get_matrix())\n"
     ]
    }
   ],
   "source": [
    "import matplotlib.pyplot as plt\n",
    "plt.imshow(image)\n",
    "plt.show()\n",
    "\n",
    "\n"
   ]
  },
  {
   "cell_type": "code",
   "execution_count": null,
   "metadata": {
    "collapsed": true
   },
   "outputs": [],
   "source": []
  }
 ],
 "metadata": {
  "kernelspec": {
   "display_name": "Python 2",
   "language": "python",
   "name": "python2"
  },
  "language_info": {
   "codemirror_mode": {
    "name": "ipython",
    "version": 2
   },
   "file_extension": ".py",
   "mimetype": "text/x-python",
   "name": "python",
   "nbconvert_exporter": "python",
   "pygments_lexer": "ipython2",
   "version": "2.7.10"
  }
 },
 "nbformat": 4,
 "nbformat_minor": 0
}

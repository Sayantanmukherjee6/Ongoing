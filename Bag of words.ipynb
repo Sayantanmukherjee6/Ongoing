{
 "cells": [
  {
   "cell_type": "code",
   "execution_count": 1,
   "metadata": {
    "collapsed": false
   },
   "outputs": [
    {
     "ename": "ImportError",
     "evalue": "No module named 'cv2'",
     "output_type": "error",
     "traceback": [
      "\u001b[1;31m---------------------------------------------------------------------------\u001b[0m",
      "\u001b[1;31mImportError\u001b[0m                               Traceback (most recent call last)",
      "\u001b[1;32m<ipython-input-1-2f8707b4ba27>\u001b[0m in \u001b[0;36m<module>\u001b[1;34m()\u001b[0m\n\u001b[1;32m----> 1\u001b[1;33m \u001b[1;32mimport\u001b[0m \u001b[0mcv2\u001b[0m\u001b[1;33m\u001b[0m\u001b[0m\n\u001b[0m\u001b[0;32m      2\u001b[0m \u001b[1;32mimport\u001b[0m \u001b[0mnumpy\u001b[0m \u001b[1;32mas\u001b[0m \u001b[0mnp\u001b[0m\u001b[1;33m\u001b[0m\u001b[0m\n\u001b[0;32m      3\u001b[0m \u001b[1;32mimport\u001b[0m \u001b[0mos\u001b[0m\u001b[1;33m\u001b[0m\u001b[0m\n\u001b[0;32m      4\u001b[0m \u001b[1;32mfrom\u001b[0m \u001b[0msklearn\u001b[0m\u001b[1;33m.\u001b[0m\u001b[0msvm\u001b[0m \u001b[1;32mimport\u001b[0m \u001b[0mLinearSVC\u001b[0m\u001b[1;33m\u001b[0m\u001b[0m\n\u001b[0;32m      5\u001b[0m \u001b[1;32mfrom\u001b[0m \u001b[0msklearn\u001b[0m\u001b[1;33m.\u001b[0m\u001b[0mexternals\u001b[0m \u001b[1;32mimport\u001b[0m \u001b[0mjoblib\u001b[0m\u001b[1;33m\u001b[0m\u001b[0m\n",
      "\u001b[1;31mImportError\u001b[0m: No module named 'cv2'"
     ]
    }
   ],
   "source": [
    "import cv2\n",
    "import numpy as np\n",
    "import os\n",
    "from sklearn.svm import LinearSVC\n",
    "from sklearn.externals import joblib\n",
    "from scipy.cluster.vq import *\n",
    "from sklearn.preprocessing import StandardScaler\n",
    "from sklearn.decomposition import PCA\n",
    "\n",
    "def imlist(path):\n",
    "    \"\"\"\n",
    "    The function imlist returns all the names of the files in \n",
    "    the directory path supplied as argument to the function.\n",
    "    \"\"\"\n",
    "    return [os.path.join(path, f) for f in os.listdir(path)]\n",
    "\n",
    "train_path = 'bag/dataset\\\\'\n",
    "training_names = os.listdir(train_path)\n",
    "\n",
    "# Get all the path to the images and save them in a list\n",
    "# image_paths and the corresponding label in image_paths\n",
    "image_paths = []\n",
    "image_classes = []\n",
    "class_id = 0\n",
    "for training_name in training_names:\n",
    "    dir = os.path.join(train_path, training_name)\n",
    "    class_path = imlist(dir)\n",
    "    image_paths+=class_path\n",
    "    image_classes+=[class_id]*len(class_path)\n",
    "    class_id+=1\n",
    "\n",
    "# Create feature extraction and keypoint detector objects\n",
    "fea_det = cv2.FeatureDetector_create(\"SIFT\")\n",
    "des_ext = cv2.DescriptorExtractor_create(\"SIFT\")\n",
    "\n",
    "# List where all the descriptors are stored\n",
    "des_list = []\n",
    "\n",
    "for image_path in image_paths:\n",
    "    im = cv2.imread(image_path,0)\n",
    "    kpts = fea_det.detect(im)\n",
    "    kpts, des = des_ext.compute(im, kpts)\n",
    "    des_list.append((image_path, des))   \n",
    "    \n",
    "# Stack all the descriptors vertically in a numpy array\n",
    "descriptors = des_list[0][1]\n",
    "for image_path, descriptor in des_list[1:]:\n",
    "    descriptors = np.vstack((descriptors, descriptor))  \n",
    "\n",
    "# Perform k-means clustering\n",
    "k = 100\n",
    "voc, variance = kmeans(descriptors, k, 1) \n",
    "\n",
    "# Calculate the histogram of features\n",
    "im_features = np.zeros((len(image_paths), k), \"float32\")\n",
    "for i in xrange(len(image_paths)):\n",
    "    words, distance = vq(des_list[i][1],voc)\n",
    "    for w in words:\n",
    "        im_features[i][w] += 1\n",
    "\n",
    "# Perform Tf-Idf vectorization\n",
    "nbr_occurences = np.sum( (im_features > 0) * 1, axis = 0)\n",
    "idf = np.array(np.log((1.0*len(image_paths)+1) / (1.0*nbr_occurences + 1)), 'float32')\n",
    "\n",
    "# Scaling the words\n",
    "stdSlr = StandardScaler().fit(im_features)\n",
    "im_features = stdSlr.transform(im_features)\n",
    "\n",
    "pca = PCA(n_components=0.8,whiten=True)\n",
    "im_features = pca.fit_transform(im_features)\n",
    "\n",
    "# Train the Linear SVM\n",
    "clf = LinearSVC()\n",
    "clf.fit(im_features, np.array(image_classes))\n",
    "\n",
    "# Save the SVM\n",
    "joblib.dump((clf, training_names, stdSlr, k, voc), \"bof.pkl\", compress=3)  "
   ]
  },
  {
   "cell_type": "code",
   "execution_count": null,
   "metadata": {
    "collapsed": true
   },
   "outputs": [],
   "source": []
  },
  {
   "cell_type": "code",
   "execution_count": 11,
   "metadata": {
    "collapsed": false
   },
   "outputs": [
    {
     "name": "stderr",
     "output_type": "stream",
     "text": [
      "C:\\Users\\admin\\Anaconda\\lib\\site-packages\\IPython\\kernel\\__main__.py:30: FutureWarning: comparison to `None` will result in an elementwise object comparison in the future.\n"
     ]
    }
   ],
   "source": [
    "import argparse as ap\n",
    "import cv2\n",
    "import imutils \n",
    "import numpy as np\n",
    "import os\n",
    "from sklearn.svm import LinearSVC\n",
    "from sklearn.externals import joblib\n",
    "from scipy.cluster.vq import *\n",
    "\n",
    "image_paths = ['bag/test/ftest13.jpg']\n",
    "\n",
    "def imlist(path):\n",
    "    \"\"\"\n",
    "    The function imlist returns all the names of the files in \n",
    "    the directory path supplied as argument to the function.\n",
    "    \"\"\"\n",
    "    return [os.path.join(path, f) for f in os.listdir(path)]\n",
    "\n",
    "clf, classes_names, stdSlr, k, voc = joblib.load(\"bof.pkl\")\n",
    "\n",
    "# Create feature extraction and keypoint detector objects\n",
    "fea_det = cv2.FeatureDetector_create(\"SIFT\")\n",
    "des_ext = cv2.DescriptorExtractor_create(\"SIFT\")\n",
    "\n",
    "# List where all the descriptors are stored\n",
    "des_list = []\n",
    "\n",
    "for image_path in image_paths:\n",
    "    im = cv2.imread(image_path,0)\n",
    "    if im == None:\n",
    "        print \"No such file {}\\nCheck if the file exists\".format(image_path)\n",
    "        #exit()\n",
    "    kpts = fea_det.detect(im)\n",
    "    kpts, des = des_ext.compute(im, kpts)\n",
    "    des_list.append((image_path, des))   \n",
    "    \n",
    "# Stack all the descriptors vertically in a numpy array\n",
    "descriptors = des_list[0][1]\n",
    "for image_path, descriptor in des_list[0:]:\n",
    "    descriptors = np.vstack((descriptors, descriptor)) \n",
    "\n",
    "# \n",
    "test_features = np.zeros((len(image_paths), k), \"float32\")\n",
    "for i in xrange(len(image_paths)):\n",
    "    words, distance = vq(des_list[i][1],voc)\n",
    "    for w in words:\n",
    "        test_features[i][w] += 1\n",
    "\n",
    "# Perform Tf-Idf vectorization\n",
    "nbr_occurences = np.sum( (test_features > 0) * 1, axis = 0)\n",
    "idf = np.array(np.log((1.0*len(image_paths)+1) / (1.0*nbr_occurences + 1)), 'float32')  \n",
    "\n",
    "# Scale the features\n",
    "test_features = stdSlr.transform(test_features)\n",
    "\n",
    "test_features = pca.transform(test_features)\n",
    "\n",
    "# Perform the predictions\n",
    "predictions =  [classes_names[i] for i in clf.predict(test_features)]\n",
    "\n",
    "# Visualize the results, if \"visualize\" flag set to true by the user\n",
    "for image_path, prediction in zip(image_paths, predictions):\n",
    "        image = cv2.imread(image_path)\n",
    "        cv2.namedWindow(\"Image\", cv2.WINDOW_NORMAL)\n",
    "        pt = (0, 3 * image.shape[0] // 4)\n",
    "        cv2.putText(image, prediction, pt ,cv2.FONT_HERSHEY_SCRIPT_COMPLEX, 2, [0, 255, 0], 2)\n",
    "        cv2.imshow(\"Image\", image)\n",
    "        cv2.waitKey(0)"
   ]
  },
  {
   "cell_type": "code",
   "execution_count": null,
   "metadata": {
    "collapsed": true
   },
   "outputs": [],
   "source": []
  }
 ],
 "metadata": {
  "kernelspec": {
   "display_name": "Python 2",
   "language": "python",
   "name": "python2"
  },
  "language_info": {
   "codemirror_mode": {
    "name": "ipython",
    "version": 2
   },
   "file_extension": ".py",
   "mimetype": "text/x-python",
   "name": "python",
   "nbconvert_exporter": "python",
   "pygments_lexer": "ipython2",
   "version": "2.7.10"
  }
 },
 "nbformat": 4,
 "nbformat_minor": 0
}

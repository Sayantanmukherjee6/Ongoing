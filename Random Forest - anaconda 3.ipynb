{
 "cells": [
  {
   "cell_type": "code",
   "execution_count": 1,
   "metadata": {
    "collapsed": true
   },
   "outputs": [],
   "source": [
    "import cv2\n",
    "import numpy as np\n",
    "import matplotlib.pyplot as plt\n",
    "from glob import glob\n",
    "import os\n",
    "from sklearn.svm import LinearSVC\n",
    "from scipy.cluster.vq import *\n",
    "from sklearn.preprocessing import StandardScaler\n",
    "from PIL import Image\n",
    "import PIL.ImageOps\n",
    "from collections import defaultdict\n",
    "from glob import glob\n",
    "from random import shuffle, seed\n",
    "import pylab as pl\n",
    "import pandas as pd\n",
    "import re\n",
    "from sklearn.decomposition import PCA\n",
    "from sklearn.manifold import TSNE\n",
    "from multiprocessing import Process, freeze_support"
   ]
  },
  {
   "cell_type": "code",
   "execution_count": 2,
   "metadata": {
    "collapsed": false,
    "scrolled": false
   },
   "outputs": [],
   "source": [
    "def img_to_array(filename):\n",
    "    \"\"\"\n",
    "    takes a filename and turns it into a numpy array of RGB pixels\n",
    "    \"\"\"\n",
    "    img = Image.open(filename)\n",
    "    img = list(img.getdata())\n",
    "    #img = map(list, img)\n",
    "    img = np.array(img)\n",
    "    s = img.shape[0] * img.shape[1]\n",
    "    img_wide = img.reshape(1, s)\n",
    "    return img_wide[0]\n",
    "\n",
    "shirt = glob('bag/dataset/150new/100/shirt_resized/*')\n",
    "collared_tees = glob('bag/dataset/150new/100/collared_tees_resized/*')\n",
    "normal_tees = glob('bag/dataset/150new/100/normal_tees_resized/*')\n",
    "\n",
    "process_file = img_to_array\n",
    "\n",
    "raw_data = [(process_file(filename),'shirt',filename) for filename in shirt] + \\\n",
    "           [(process_file(filename),'collared_tees',filename) for filename in collared_tees] + \\\n",
    "           [(process_file(filename),'normal_tees',filename) for filename in normal_tees]\n",
    "\n",
    "# randomly order the data\n",
    "seed(0)\n",
    "shuffle(raw_data)"
   ]
  },
  {
   "cell_type": "code",
   "execution_count": 3,
   "metadata": {
    "collapsed": false,
    "scrolled": false
   },
   "outputs": [
    {
     "name": "stderr",
     "output_type": "stream",
     "text": [
      "C:\\Users\\admin\\Anaconda\\lib\\site-packages\\sklearn\\utils\\validation.py:498: UserWarning: StandardScaler assumes floating point values as input, got int32\n",
      "  \"got %s\" % (estimator, X.dtype))\n"
     ]
    }
   ],
   "source": [
    "data = np.array([cd for (cd,_y,f) in raw_data])\n",
    "labels = np.array([_y for (cd,_y,f) in raw_data])\n",
    "y = [(0 if label == 'collared_tees' else( 1 if label=='normal_tees' else 2 )) for label in labels ]\n",
    "\n",
    "# Scaling the words\n",
    "stdSlr = StandardScaler().fit(data)\n",
    "data = stdSlr.transform(data)\n",
    "\n",
    "from sklearn.cross_validation import train_test_split,cross_val_score,KFold,StratifiedShuffleSplit,StratifiedKFold\n",
    "from sklearn import metrics\n",
    "from sklearn.grid_search import GridSearchCV\n",
    "from sklearn.pipeline import Pipeline\n",
    "\n",
    "X_train, X_test, y_train, y_test = train_test_split(data, y, test_size=0.2, random_state=2)"
   ]
  },
  {
   "cell_type": "code",
   "execution_count": 8,
   "metadata": {
    "collapsed": false
   },
   "outputs": [],
   "source": [
    "'''\n",
    "c=np.column_stack((data,y))\n",
    "import pandas as pd\n",
    "df = pd.DataFrame(c) # A is a numpy 2d array\n",
    "df.to_csv('dataset.csv',index=False, float_format=\"%f\")\n",
    "'''"
   ]
  },
  {
   "cell_type": "code",
   "execution_count": 8,
   "metadata": {
    "collapsed": false
   },
   "outputs": [
    {
     "name": "stdout",
     "output_type": "stream",
     "text": [
      "0.672240802676\n"
     ]
    }
   ],
   "source": [
    "from sklearn.ensemble import RandomForestClassifier\n",
    "clf=RandomForestClassifier(n_estimators=1000, \n",
    "                           criterion='entropy',\n",
    "                           max_depth=7,\n",
    "                           min_samples_split=2,\n",
    "                           min_samples_leaf=1,\n",
    "                           max_features='auto',\n",
    "                           bootstrap=False, \n",
    "                           random_state=2,\n",
    "                           verbose=0)\n",
    "                           #n_jobs=-1)\n",
    "                           #min_density=None, \n",
    "                           #compute_importances=None\n",
    "clf.fit(X_train, y_train)\n",
    "y_pred = clf.predict(X_test)\n",
    "print (metrics.accuracy_score(y_test, y_pred)) # accuracy = 0.86592178"
   ]
  },
  {
   "cell_type": "markdown",
   "metadata": {
    "collapsed": true
   },
   "source": [
    "# 10 fold cross validation"
   ]
  },
  {
   "cell_type": "code",
   "execution_count": 5,
   "metadata": {
    "collapsed": false
   },
   "outputs": [],
   "source": [
    "from sklearn.ensemble import RandomForestClassifier\n",
    "#from sklearn.grid_search import GridSearchCV\n",
    "from sklearn import cross_validation\n",
    "clf=RandomForestClassifier(n_estimators=1000, \n",
    "                           criterion='entropy',\n",
    "                           max_depth=7,\n",
    "                           min_samples_split=2,\n",
    "                           min_samples_leaf=1,\n",
    "                           max_features='auto',\n",
    "                           bootstrap=False, \n",
    "                           random_state=1,\n",
    "                           verbose=0)\n",
    "\n",
    "scores = cross_validation.cross_val_score(clf, data, y, cv=8,n_jobs= -1)"
   ]
  },
  {
   "cell_type": "code",
   "execution_count": 6,
   "metadata": {
    "collapsed": false
   },
   "outputs": [
    {
     "data": {
      "text/plain": [
       "0.53216098446361604"
      ]
     },
     "execution_count": 6,
     "metadata": {},
     "output_type": "execute_result"
    }
   ],
   "source": [
    "scores.mean()"
   ]
  },
  {
   "cell_type": "markdown",
   "metadata": {},
   "source": [
    "# 5 FOld Cross Validation"
   ]
  },
  {
   "cell_type": "code",
   "execution_count": 8,
   "metadata": {
    "collapsed": true
   },
   "outputs": [],
   "source": [
    "from sklearn.ensemble import RandomForestClassifier\n",
    "#from sklearn.grid_search import GridSearchCV\n",
    "from sklearn import cross_validation\n",
    "clf=RandomForestClassifier(n_estimators=1000, \n",
    "                           criterion='entropy',\n",
    "                           max_depth=7,\n",
    "                           min_samples_split=2,\n",
    "                           min_samples_leaf=1,\n",
    "                           max_features='auto',\n",
    "                           bootstrap=False, \n",
    "                           random_state=1,\n",
    "                           verbose=0, \n",
    "                           min_density=None, \n",
    "                           compute_importances=None)\n",
    "\n",
    "scores = cross_validation.cross_val_score(clf, data, y, cv=2)"
   ]
  },
  {
   "cell_type": "code",
   "execution_count": 9,
   "metadata": {
    "collapsed": false
   },
   "outputs": [
    {
     "data": {
      "text/plain": [
       "0.55690355219732501"
      ]
     },
     "execution_count": 9,
     "metadata": {},
     "output_type": "execute_result"
    }
   ],
   "source": [
    "scores.mean()"
   ]
  },
  {
   "cell_type": "markdown",
   "metadata": {},
   "source": [
    "# Hyper parameter tuning"
   ]
  },
  {
   "cell_type": "code",
   "execution_count": 5,
   "metadata": {
    "collapsed": false
   },
   "outputs": [
    {
     "name": "stdout",
     "output_type": "stream",
     "text": [
      "{'min_samples_split': [1, 4, 7, 9, 11], 'max_features': ['auto', 'sqrt', 0.5], 'max_depth': [0.5, 5, 7, 9, None], 'min_samples_leaf': [1, 4, 7, 9, 11]}\n"
     ]
    }
   ],
   "source": [
    "from sklearn.grid_search import GridSearchCV\n",
    "feature_option=['auto','sqrt',0.5]\n",
    "depth_option = [0.5,5,7,9,None]\n",
    "split_option = [1,4,7,9,11]\n",
    "leaf_options=[1,4,7,9,11]\n",
    "param_grid = dict(max_features=feature_option,\n",
    "                  max_depth=depth_option,\n",
    "                  min_samples_split=split_option,\n",
    "                  min_samples_leaf =leaf_options)\n",
    "print param_grid"
   ]
  },
  {
   "cell_type": "code",
   "execution_count": 6,
   "metadata": {
    "collapsed": true
   },
   "outputs": [],
   "source": [
    "from sklearn.ensemble import RandomForestClassifier\n",
    "'''\n",
    "grid_clf = RandomForestClassifier(criterion='gini',\n",
    "                                  max_depth=7,\n",
    "                                  min_samples_split=2,\n",
    "                                  min_samples_leaf=1,\n",
    "                                  max_features='auto',\n",
    "                                  random_state=1)\n",
    " '''                                 \n",
    "grid_clf = RandomForestClassifier(n_estimators= 900,criterion='entropy',random_state=1)"
   ]
  },
  {
   "cell_type": "code",
   "execution_count": null,
   "metadata": {
    "collapsed": false
   },
   "outputs": [],
   "source": [
    "grid =GridSearchCV(grid_clf,param_grid,cv=5,scoring ='accuracy')\n",
    "grid.fit(data,y)"
   ]
  },
  {
   "cell_type": "code",
   "execution_count": null,
   "metadata": {
    "collapsed": true
   },
   "outputs": [],
   "source": [
    "grid.grid_scores_"
   ]
  },
  {
   "cell_type": "markdown",
   "metadata": {},
   "source": [
    "#Testing arbitrary Image"
   ]
  },
  {
   "cell_type": "code",
   "execution_count": 11,
   "metadata": {
    "collapsed": false
   },
   "outputs": [
    {
     "data": {
      "text/plain": [
       "(100, 100, 3)"
      ]
     },
     "execution_count": 11,
     "metadata": {},
     "output_type": "execute_result"
    }
   ],
   "source": [
    "img = cv2.imread(\"bag/test/thumbnails/ftest7.jpg\")\n",
    "\n",
    "#img = list(img.getdata())\n",
    "#img = map(list, img)\n",
    "img = np.array(img)\n",
    "s = img.shape[0] * img.shape[1]*img.shape[2]\n",
    "img_wid = img.reshape(1, s)\n",
    "img.shape"
   ]
  },
  {
   "cell_type": "code",
   "execution_count": 12,
   "metadata": {
    "collapsed": false
   },
   "outputs": [
    {
     "name": "stderr",
     "output_type": "stream",
     "text": [
      "C:\\Users\\admin\\Anaconda\\lib\\site-packages\\sklearn\\utils\\validation.py:498: UserWarning: StandardScaler assumes floating point values as input, got uint8\n",
      "  \"got %s\" % (estimator, X.dtype))\n"
     ]
    },
    {
     "data": {
      "text/plain": [
       "array([0])"
      ]
     },
     "execution_count": 12,
     "metadata": {},
     "output_type": "execute_result"
    }
   ],
   "source": [
    "img_wid[0]\n",
    "stdSlr = StandardScaler().fit(img_wid[0])\n",
    "img_wid1 = stdSlr.transform(img_wid[0])\n",
    "y_pred = clf.predict(img_wid1)\n",
    "y_pred"
   ]
  },
  {
   "cell_type": "code",
   "execution_count": null,
   "metadata": {
    "collapsed": true
   },
   "outputs": [],
   "source": []
  }
 ],
 "metadata": {
  "kernelspec": {
   "display_name": "Python 2",
   "language": "python",
   "name": "python2"
  },
  "language_info": {
   "codemirror_mode": {
    "name": "ipython",
    "version": 2
   },
   "file_extension": ".py",
   "mimetype": "text/x-python",
   "name": "python",
   "nbconvert_exporter": "python",
   "pygments_lexer": "ipython2",
   "version": "2.7.10"
  }
 },
 "nbformat": 4,
 "nbformat_minor": 0
}

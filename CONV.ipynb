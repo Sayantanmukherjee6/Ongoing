{
 "cells": [
  {
   "cell_type": "code",
   "execution_count": 2,
   "metadata": {
    "collapsed": false
   },
   "outputs": [
    {
     "ename": "ImportError",
     "evalue": "No module named sknn.mlp",
     "output_type": "error",
     "traceback": [
      "\u001b[1;31m---------------------------------------------------------------------------\u001b[0m",
      "\u001b[1;31mImportError\u001b[0m                               Traceback (most recent call last)",
      "\u001b[1;32m<ipython-input-2-70918a9755b0>\u001b[0m in \u001b[0;36m<module>\u001b[1;34m()\u001b[0m\n\u001b[1;32m----> 1\u001b[1;33m \u001b[1;32mfrom\u001b[0m \u001b[0msknn\u001b[0m\u001b[1;33m.\u001b[0m\u001b[0mmlp\u001b[0m \u001b[1;32mimport\u001b[0m \u001b[0mClassifier\u001b[0m\u001b[1;33m,\u001b[0m \u001b[0mLayer\u001b[0m\u001b[1;33m,\u001b[0m \u001b[0mConvolution\u001b[0m\u001b[1;33m\u001b[0m\u001b[0m\n\u001b[0m\u001b[0;32m      2\u001b[0m \u001b[1;32mfrom\u001b[0m \u001b[0msklearn\u001b[0m\u001b[1;33m.\u001b[0m\u001b[0mcross_validation\u001b[0m \u001b[1;32mimport\u001b[0m \u001b[0mtrain_test_split\u001b[0m\u001b[1;33m\u001b[0m\u001b[0m\n\u001b[0;32m      3\u001b[0m \u001b[1;32mfrom\u001b[0m \u001b[0msklearn\u001b[0m\u001b[1;33m.\u001b[0m\u001b[0mmetrics\u001b[0m \u001b[1;32mimport\u001b[0m \u001b[0mclassification_report\u001b[0m\u001b[1;33m\u001b[0m\u001b[0m\n\u001b[0;32m      4\u001b[0m \u001b[1;31m#from nolearn.dbn import DBN\u001b[0m\u001b[1;33m\u001b[0m\u001b[1;33m\u001b[0m\u001b[0m\n\u001b[0;32m      5\u001b[0m \u001b[1;32mimport\u001b[0m \u001b[0mnumpy\u001b[0m \u001b[1;32mas\u001b[0m \u001b[0mnp\u001b[0m\u001b[1;33m\u001b[0m\u001b[0m\n",
      "\u001b[1;31mImportError\u001b[0m: No module named sknn.mlp"
     ]
    }
   ],
   "source": [
    "from sknn.mlp import Classifier, Layer, Convolution\n",
    "from sklearn.cross_validation import train_test_split\n",
    "from sklearn.metrics import classification_report\n",
    "#from nolearn.dbn import DBN\n",
    "import numpy as np\n",
    "import matplotlib.pyplot as plt\n",
    "from glob import glob\n",
    "import os\n",
    "from sklearn.svm import LinearSVC\n",
    "from scipy.cluster.vq import *\n",
    "from sklearn.preprocessing import StandardScaler\n",
    "from PIL import Image\n",
    "import PIL.ImageOps\n",
    "from collections import defaultdict\n",
    "from glob import glob\n",
    "from random import shuffle, seed\n",
    "import pylab as pl\n",
    "import pandas as pd\n",
    "import re\n",
    "from sklearn import metrics\n",
    "from __future__ import print_function\n",
    "import cv2\n",
    "import sys\n",
    "import os\n",
    "import time\n",
    "\n",
    "import numpy as np\n",
    "import theano\n",
    "import theano.tensor as T\n",
    "\n",
    "import lasagne"
   ]
  },
  {
   "cell_type": "code",
   "execution_count": 2,
   "metadata": {
    "collapsed": true
   },
   "outputs": [],
   "source": [
    "def img_to_matrix(filename):\n",
    "    \"\"\"\n",
    "    takes a filename and turns it into a numpy array of RGB pixels\n",
    "    \"\"\"\n",
    "    img = cv2.imread(filename,0)\n",
    "    #img = list(img.getdata())\n",
    "    #img = map(list, img)\n",
    "    img = np.array(img)\n",
    "    #s = img.shape[0] * img.shape[1]\n",
    "    #img_wide = img.reshape(1, s)\n",
    "    return img\n",
    "\n",
    "shirt = glob('D:/python image processing/bag/dataset/shirt_resized/*')\n",
    "collared_tees = glob('D:/python image processing/bag/dataset/collared_tees_resized/*')\n",
    "normal_tees = glob('D:/python image processing/bag/dataset/normal_tees_resized/*')\n",
    "\n",
    "process_file = img_to_matrix\n",
    "\n",
    "raw_data = [(process_file(filename),'shirt',filename) for filename in shirt] + \\\n",
    "           [(process_file(filename),'collared_tees',filename) for filename in collared_tees] + \\\n",
    "           [(process_file(filename),'normal_tees',filename) for filename in normal_tees]\n",
    "\n",
    "# randomly order the data\n",
    "seed(0)\n",
    "shuffle(raw_data)"
   ]
  },
  {
   "cell_type": "code",
   "execution_count": 8,
   "metadata": {
    "collapsed": false
   },
   "outputs": [],
   "source": [
    "data = np.array([cd for (cd,_y,f) in raw_data])\n",
    "labels = np.array([_y for (cd,_y,f) in raw_data])\n",
    "y = [(0 if label == 'collared_tees' else( 1 if label=='normal_tees' else 2 )) for label in labels]\n",
    "#l=[StandardScaler().fit_transform(data) for data in data]\n",
    "#l=np.asarray(l)\n",
    "#y=np.asarray(y)\n",
    "#X_train, X_test, y_train, y_test = train_test_split(l, y, test_size=0.2, random_state=2)"
   ]
  },
  {
   "cell_type": "code",
   "execution_count": 20,
   "metadata": {
    "collapsed": false
   },
   "outputs": [
    {
     "name": "stderr",
     "output_type": "stream",
     "text": [
      "WARNING:sknn:  - Reshaping input array from (526L, 50L, 50L) to (420L, 50L, 50L, 1L).\n"
     ]
    },
    {
     "data": {
      "text/plain": [
       "Classifier(batch_size=1, debug=False, dropout_rate=None, f_stable=0.001,\n",
       "      hidden0=<sknn.nn.Convolution `Rectifier`: channels=6, name=u'hidden0', kernel_shape=(3, 3), kernel_stride=(1, 1), pool_shape=(1, 1), border_mode='full'>,\n",
       "      hidden1=<sknn.nn.Convolution `Rectifier`: channels=3, name=u'hidden1', pool_type='max', kernel_shape=(3, 3), kernel_stride=(4, 4), pool_shape=(4, 4), border_mode='valid'>,\n",
       "      layers=[<sknn.nn.Convolution `Rectifier`: channels=6, name=u'hidden0', kernel_shape=(3, 3), kernel_stride=(1, 1), pool_shape=(1, 1), border_mode='full'>, <sknn.nn.Convolution `Rectifier`: channels=3, name=u'hidden1', pool_type='max', kernel_shape=(3, 3), kernel_stride=(4, 4), pool_shape=(4, 4), border_mode='valid'>, <sknn.nn.Layer `Softmax`: name=u'output', units=3L>],\n",
       "      learning_momentum=0.9, learning_rate=0.002, learning_rule=u'sgd',\n",
       "      loss_type=u'mse', mutator=None, n_iter=None, n_stable=10,\n",
       "      output=<sknn.nn.Layer `Softmax`: name=u'output', units=3L>,\n",
       "      random_state=None, regularize=None,\n",
       "      valid_set=(array([[[[-1.34733],\n",
       "         [-1.19333],\n",
       "         ...,\n",
       "         [-1.80653],\n",
       "         [-1.85076]],\n",
       "\n",
       "        [[-1.10147],\n",
       "         [-1.7435 ],\n",
       "         ...,\n",
       "         [-1.64436],\n",
       "         [-1.64304]],\n",
       "\n",
       "        ...,\n",
       "        [[-0.14533],\n",
       "         [ 0.34716],\n",
       "         ...,\n",
       "         [-0.379...0.47664]]]]), array([[1, 0, 0],\n",
       "       [0, 0, 1],\n",
       "       ...,\n",
       "       [0, 0, 1],\n",
       "       [0, 0, 1]])),\n",
       "      valid_size=0.2, verbose=True, weight_decay=None)"
      ]
     },
     "execution_count": 20,
     "metadata": {},
     "output_type": "execute_result"
    }
   ],
   "source": [
    "\n",
    "# Create a neural network that uses convolution to scan the input images.\n",
    "nn = Classifier(\n",
    "    layers=[\n",
    "        Convolution('Rectifier', channels=6, kernel_shape=(3, 3), border_mode='full'),\n",
    "        Convolution('Rectifier', channels=3,pool_type='max',pool_shape=(4,4), kernel_shape=(3, 3), border_mode='valid'),\n",
    "        Layer(\"Softmax\")],\n",
    "    learning_rate=0.002,\n",
    "    valid_size=0.2,\n",
    "    n_stable=10,\n",
    "    verbose=True)\n",
    "\n",
    "nn.fit(X_train, y_train)\n"
   ]
  },
  {
   "cell_type": "code",
   "execution_count": 22,
   "metadata": {
    "collapsed": false
   },
   "outputs": [
    {
     "name": "stdout",
     "output_type": "stream",
     "text": [
      "0.522727272727\n"
     ]
    }
   ],
   "source": [
    "preds = nn.predict(X_test)\n",
    "print (metrics.accuracy_score(y_test, preds))"
   ]
  },
  {
   "cell_type": "code",
   "execution_count": null,
   "metadata": {
    "collapsed": true
   },
   "outputs": [],
   "source": []
  },
  {
   "cell_type": "code",
   "execution_count": null,
   "metadata": {
    "collapsed": true
   },
   "outputs": [],
   "source": []
  },
  {
   "cell_type": "code",
   "execution_count": 27,
   "metadata": {
    "collapsed": true
   },
   "outputs": [],
   "source": [
    "from lasagne import layers\n",
    "from lasagne.nonlinearities import  softmax, rectify\n",
    "from lasagne.updates import nesterov_momentum\n",
    "from nolearn.lasagne import NeuralNet\n",
    "import numpy as np\n",
    "\n",
    "def fit_model(train_x, y, test_x):\n",
    "    \"\"\"Feed forward neural network for kaggle digit recognizer competition.\n",
    "    Intentionally limit network size and optimization time (by choosing max_epochs = 15) to meet runtime restrictions\n",
    "    \"\"\"\n",
    "    print(\"\\n\\nRunning Convetional Net.  Optimization progress below\\n\\n\")\n",
    "    net1 = NeuralNet(\n",
    "        layers=[  #list the layers here\n",
    "            ('input', layers.InputLayer),\n",
    "            ('hidden1', layers.DenseLayer),\n",
    "            ('hidden2', layers.DenseLayer),\n",
    "            ('output', layers.DenseLayer),\n",
    "            ],\n",
    "\n",
    "        # layer parameters:\n",
    "        input_shape=(None, train_x.shape[1]),\n",
    "        hidden1_num_units=200, hidden1_nonlinearity=rectify,  #params of first layer\n",
    "        hidden2_num_units=200, hidden2_nonlinearity=rectify,\n",
    "        output_nonlinearity=softmax,  # softmax for classification problems\n",
    "        output_num_units=3,  # 10 target values\n",
    "\n",
    "        # optimization method:\n",
    "        update=nesterov_momentum,\n",
    "        update_learning_rate=0.05,\n",
    "        update_momentum=0.7,\n",
    "\n",
    "        regression=False,\n",
    "        max_epochs=10,  # Intentionally limited for execution speed\n",
    "        verbose=1,\n",
    "        )\n",
    "    net1.fit(train_x, y)\n",
    "    predictions = net1.predict(test_x)\n",
    "    return(predictions)"
   ]
  },
  {
   "cell_type": "code",
   "execution_count": 29,
   "metadata": {
    "collapsed": false
   },
   "outputs": [
    {
     "name": "stdout",
     "output_type": "stream",
     "text": [
      "\n",
      "\n",
      "Running Convetional Net.  Optimization progress below\n",
      "\n",
      "\n"
     ]
    },
    {
     "ename": "AttributeError",
     "evalue": "'module' object has no attribute 'relu'",
     "output_type": "error",
     "traceback": [
      "\u001b[1;31m---------------------------------------------------------------------------\u001b[0m",
      "\u001b[1;31mAttributeError\u001b[0m                            Traceback (most recent call last)",
      "\u001b[1;32m<ipython-input-29-25a228be8aaa>\u001b[0m in \u001b[0;36m<module>\u001b[1;34m()\u001b[0m\n\u001b[1;32m----> 1\u001b[1;33m \u001b[0mbasic_nn_preds\u001b[0m \u001b[1;33m=\u001b[0m \u001b[0mfit_model\u001b[0m\u001b[1;33m(\u001b[0m\u001b[0mX_train\u001b[0m\u001b[1;33m,\u001b[0m \u001b[0my_train\u001b[0m\u001b[1;33m,\u001b[0m \u001b[0mX_test\u001b[0m\u001b[1;33m)\u001b[0m\u001b[1;33m\u001b[0m\u001b[0m\n\u001b[0m",
      "\u001b[1;32m<ipython-input-27-d42028c4cf82>\u001b[0m in \u001b[0;36mfit_model\u001b[1;34m(train_x, y, test_x)\u001b[0m\n\u001b[0;32m     34\u001b[0m         \u001b[0mverbose\u001b[0m\u001b[1;33m=\u001b[0m\u001b[1;36m1\u001b[0m\u001b[1;33m,\u001b[0m\u001b[1;33m\u001b[0m\u001b[0m\n\u001b[0;32m     35\u001b[0m         )\n\u001b[1;32m---> 36\u001b[1;33m     \u001b[0mnet1\u001b[0m\u001b[1;33m.\u001b[0m\u001b[0mfit\u001b[0m\u001b[1;33m(\u001b[0m\u001b[0mtrain_x\u001b[0m\u001b[1;33m,\u001b[0m \u001b[0my\u001b[0m\u001b[1;33m)\u001b[0m\u001b[1;33m\u001b[0m\u001b[0m\n\u001b[0m\u001b[0;32m     37\u001b[0m     \u001b[0mpredictions\u001b[0m \u001b[1;33m=\u001b[0m \u001b[0mnet1\u001b[0m\u001b[1;33m.\u001b[0m\u001b[0mpredict\u001b[0m\u001b[1;33m(\u001b[0m\u001b[0mtest_x\u001b[0m\u001b[1;33m)\u001b[0m\u001b[1;33m\u001b[0m\u001b[0m\n\u001b[0;32m     38\u001b[0m     \u001b[1;32mreturn\u001b[0m\u001b[1;33m(\u001b[0m\u001b[0mpredictions\u001b[0m\u001b[1;33m)\u001b[0m\u001b[1;33m\u001b[0m\u001b[0m\n",
      "\u001b[1;32mD:\\WinPython-64bit-2.7.10.2\\python-2.7.10.amd64\\lib\\site-packages\\nolearn\\lasagne\\base.pyc\u001b[0m in \u001b[0;36mfit\u001b[1;34m(self, X, y, epochs)\u001b[0m\n\u001b[0;32m    443\u001b[0m             \u001b[0my\u001b[0m \u001b[1;33m=\u001b[0m \u001b[0mself\u001b[0m\u001b[1;33m.\u001b[0m\u001b[0menc_\u001b[0m\u001b[1;33m.\u001b[0m\u001b[0mfit_transform\u001b[0m\u001b[1;33m(\u001b[0m\u001b[0my\u001b[0m\u001b[1;33m)\u001b[0m\u001b[1;33m.\u001b[0m\u001b[0mastype\u001b[0m\u001b[1;33m(\u001b[0m\u001b[0mnp\u001b[0m\u001b[1;33m.\u001b[0m\u001b[0mint32\u001b[0m\u001b[1;33m)\u001b[0m\u001b[1;33m\u001b[0m\u001b[0m\n\u001b[0;32m    444\u001b[0m             \u001b[0mself\u001b[0m\u001b[1;33m.\u001b[0m\u001b[0mclasses_\u001b[0m \u001b[1;33m=\u001b[0m \u001b[0mself\u001b[0m\u001b[1;33m.\u001b[0m\u001b[0menc_\u001b[0m\u001b[1;33m.\u001b[0m\u001b[0mclasses_\u001b[0m\u001b[1;33m\u001b[0m\u001b[0m\n\u001b[1;32m--> 445\u001b[1;33m         \u001b[0mself\u001b[0m\u001b[1;33m.\u001b[0m\u001b[0minitialize\u001b[0m\u001b[1;33m(\u001b[0m\u001b[1;33m)\u001b[0m\u001b[1;33m\u001b[0m\u001b[0m\n\u001b[0m\u001b[0;32m    446\u001b[0m \u001b[1;33m\u001b[0m\u001b[0m\n\u001b[0;32m    447\u001b[0m         \u001b[1;32mtry\u001b[0m\u001b[1;33m:\u001b[0m\u001b[1;33m\u001b[0m\u001b[0m\n",
      "\u001b[1;32mD:\\WinPython-64bit-2.7.10.2\\python-2.7.10.amd64\\lib\\site-packages\\nolearn\\lasagne\\base.pyc\u001b[0m in \u001b[0;36minitialize\u001b[1;34m(self)\u001b[0m\n\u001b[0;32m    289\u001b[0m         iter_funcs = self._create_iter_funcs(\n\u001b[0;32m    290\u001b[0m             \u001b[0mself\u001b[0m\u001b[1;33m.\u001b[0m\u001b[0mlayers_\u001b[0m\u001b[1;33m,\u001b[0m \u001b[0mself\u001b[0m\u001b[1;33m.\u001b[0m\u001b[0mobjective\u001b[0m\u001b[1;33m,\u001b[0m \u001b[0mself\u001b[0m\u001b[1;33m.\u001b[0m\u001b[0mupdate\u001b[0m\u001b[1;33m,\u001b[0m\u001b[1;33m\u001b[0m\u001b[0m\n\u001b[1;32m--> 291\u001b[1;33m             \u001b[0mself\u001b[0m\u001b[1;33m.\u001b[0m\u001b[0my_tensor_type\u001b[0m\u001b[1;33m,\u001b[0m\u001b[1;33m\u001b[0m\u001b[0m\n\u001b[0m\u001b[0;32m    292\u001b[0m             )\n\u001b[0;32m    293\u001b[0m         \u001b[0mself\u001b[0m\u001b[1;33m.\u001b[0m\u001b[0mtrain_iter_\u001b[0m\u001b[1;33m,\u001b[0m \u001b[0mself\u001b[0m\u001b[1;33m.\u001b[0m\u001b[0meval_iter_\u001b[0m\u001b[1;33m,\u001b[0m \u001b[0mself\u001b[0m\u001b[1;33m.\u001b[0m\u001b[0mpredict_iter_\u001b[0m \u001b[1;33m=\u001b[0m \u001b[0miter_funcs\u001b[0m\u001b[1;33m\u001b[0m\u001b[0m\n",
      "\u001b[1;32mD:\\WinPython-64bit-2.7.10.2\\python-2.7.10.amd64\\lib\\site-packages\\nolearn\\lasagne\\base.pyc\u001b[0m in \u001b[0;36m_create_iter_funcs\u001b[1;34m(self, layers, objective, update, output_type)\u001b[0m\n\u001b[0;32m    396\u001b[0m \u001b[1;33m\u001b[0m\u001b[0m\n\u001b[0;32m    397\u001b[0m         loss_train = objective(\n\u001b[1;32m--> 398\u001b[1;33m             layers, target=y_batch, **objective_kw)\n\u001b[0m\u001b[0;32m    399\u001b[0m         loss_eval = objective(\n\u001b[0;32m    400\u001b[0m             layers, target=y_batch, deterministic=True, **objective_kw)\n",
      "\u001b[1;32mD:\\WinPython-64bit-2.7.10.2\\python-2.7.10.amd64\\lib\\site-packages\\nolearn\\lasagne\\base.pyc\u001b[0m in \u001b[0;36mobjective\u001b[1;34m(layers, loss_function, target, aggregate, deterministic, get_output_kw)\u001b[0m\n\u001b[0;32m    143\u001b[0m     \u001b[0moutput_layer\u001b[0m \u001b[1;33m=\u001b[0m \u001b[0mlayers\u001b[0m\u001b[1;33m[\u001b[0m\u001b[1;33m-\u001b[0m\u001b[1;36m1\u001b[0m\u001b[1;33m]\u001b[0m\u001b[1;33m\u001b[0m\u001b[0m\n\u001b[0;32m    144\u001b[0m     network_output = get_output(\n\u001b[1;32m--> 145\u001b[1;33m         output_layer, deterministic=deterministic, **get_output_kw)\n\u001b[0m\u001b[0;32m    146\u001b[0m     \u001b[0mlosses\u001b[0m \u001b[1;33m=\u001b[0m \u001b[0mloss_function\u001b[0m\u001b[1;33m(\u001b[0m\u001b[0mnetwork_output\u001b[0m\u001b[1;33m,\u001b[0m \u001b[0mtarget\u001b[0m\u001b[1;33m)\u001b[0m\u001b[1;33m\u001b[0m\u001b[0m\n\u001b[0;32m    147\u001b[0m     \u001b[1;32mreturn\u001b[0m \u001b[0maggregate\u001b[0m\u001b[1;33m(\u001b[0m\u001b[0mlosses\u001b[0m\u001b[1;33m)\u001b[0m\u001b[1;33m\u001b[0m\u001b[0m\n",
      "\u001b[1;32mD:\\WinPython-64bit-2.7.10.2\\python-2.7.10.amd64\\lib\\site-packages\\lasagne\\layers\\helper.pyc\u001b[0m in \u001b[0;36mget_output\u001b[1;34m(layer_or_layers, inputs, **kwargs)\u001b[0m\n\u001b[0;32m    183\u001b[0m                                  \u001b[1;34m\"mapping this layer to an input expression.\"\u001b[0m\u001b[1;33m\u001b[0m\u001b[0m\n\u001b[0;32m    184\u001b[0m                                  % layer)\n\u001b[1;32m--> 185\u001b[1;33m             \u001b[0mall_outputs\u001b[0m\u001b[1;33m[\u001b[0m\u001b[0mlayer\u001b[0m\u001b[1;33m]\u001b[0m \u001b[1;33m=\u001b[0m \u001b[0mlayer\u001b[0m\u001b[1;33m.\u001b[0m\u001b[0mget_output_for\u001b[0m\u001b[1;33m(\u001b[0m\u001b[0mlayer_inputs\u001b[0m\u001b[1;33m,\u001b[0m \u001b[1;33m**\u001b[0m\u001b[0mkwargs\u001b[0m\u001b[1;33m)\u001b[0m\u001b[1;33m\u001b[0m\u001b[0m\n\u001b[0m\u001b[0;32m    186\u001b[0m     \u001b[1;31m# return the output(s) of the requested layer(s) only\u001b[0m\u001b[1;33m\u001b[0m\u001b[1;33m\u001b[0m\u001b[0m\n\u001b[0;32m    187\u001b[0m     \u001b[1;32mtry\u001b[0m\u001b[1;33m:\u001b[0m\u001b[1;33m\u001b[0m\u001b[0m\n",
      "\u001b[1;32mD:\\WinPython-64bit-2.7.10.2\\python-2.7.10.amd64\\lib\\site-packages\\lasagne\\layers\\dense.pyc\u001b[0m in \u001b[0;36mget_output_for\u001b[1;34m(self, input, **kwargs)\u001b[0m\n\u001b[0;32m     88\u001b[0m         \u001b[1;32mif\u001b[0m \u001b[0mself\u001b[0m\u001b[1;33m.\u001b[0m\u001b[0mb\u001b[0m \u001b[1;32mis\u001b[0m \u001b[1;32mnot\u001b[0m \u001b[0mNone\u001b[0m\u001b[1;33m:\u001b[0m\u001b[1;33m\u001b[0m\u001b[0m\n\u001b[0;32m     89\u001b[0m             \u001b[0mactivation\u001b[0m \u001b[1;33m=\u001b[0m \u001b[0mactivation\u001b[0m \u001b[1;33m+\u001b[0m \u001b[0mself\u001b[0m\u001b[1;33m.\u001b[0m\u001b[0mb\u001b[0m\u001b[1;33m.\u001b[0m\u001b[0mdimshuffle\u001b[0m\u001b[1;33m(\u001b[0m\u001b[1;34m'x'\u001b[0m\u001b[1;33m,\u001b[0m \u001b[1;36m0\u001b[0m\u001b[1;33m)\u001b[0m\u001b[1;33m\u001b[0m\u001b[0m\n\u001b[1;32m---> 90\u001b[1;33m         \u001b[1;32mreturn\u001b[0m \u001b[0mself\u001b[0m\u001b[1;33m.\u001b[0m\u001b[0mnonlinearity\u001b[0m\u001b[1;33m(\u001b[0m\u001b[0mactivation\u001b[0m\u001b[1;33m)\u001b[0m\u001b[1;33m\u001b[0m\u001b[0m\n\u001b[0m\u001b[0;32m     91\u001b[0m \u001b[1;33m\u001b[0m\u001b[0m\n\u001b[0;32m     92\u001b[0m \u001b[1;33m\u001b[0m\u001b[0m\n",
      "\u001b[1;32mD:\\WinPython-64bit-2.7.10.2\\python-2.7.10.amd64\\lib\\site-packages\\lasagne\\nonlinearities.pyc\u001b[0m in \u001b[0;36mrectify\u001b[1;34m(x)\u001b[0m\n\u001b[0;32m    154\u001b[0m         \u001b[0mThe\u001b[0m \u001b[0moutput\u001b[0m \u001b[0mof\u001b[0m \u001b[0mthe\u001b[0m \u001b[0mrectify\u001b[0m \u001b[0mfunction\u001b[0m \u001b[0mapplied\u001b[0m \u001b[0mto\u001b[0m \u001b[0mthe\u001b[0m \u001b[0mactivation\u001b[0m\u001b[1;33m.\u001b[0m\u001b[1;33m\u001b[0m\u001b[0m\n\u001b[0;32m    155\u001b[0m     \"\"\"\n\u001b[1;32m--> 156\u001b[1;33m     \u001b[1;32mreturn\u001b[0m \u001b[0mtheano\u001b[0m\u001b[1;33m.\u001b[0m\u001b[0mtensor\u001b[0m\u001b[1;33m.\u001b[0m\u001b[0mnnet\u001b[0m\u001b[1;33m.\u001b[0m\u001b[0mrelu\u001b[0m\u001b[1;33m(\u001b[0m\u001b[0mx\u001b[0m\u001b[1;33m)\u001b[0m\u001b[1;33m\u001b[0m\u001b[0m\n\u001b[0m\u001b[0;32m    157\u001b[0m \u001b[1;33m\u001b[0m\u001b[0m\n\u001b[0;32m    158\u001b[0m \u001b[1;33m\u001b[0m\u001b[0m\n",
      "\u001b[1;31mAttributeError\u001b[0m: 'module' object has no attribute 'relu'"
     ]
    }
   ],
   "source": [
    "basic_nn_preds = fit_model(X_train, y_train, X_test)"
   ]
  },
  {
   "cell_type": "code",
   "execution_count": null,
   "metadata": {
    "collapsed": true
   },
   "outputs": [],
   "source": []
  }
 ],
 "metadata": {
  "kernelspec": {
   "display_name": "Python 2",
   "language": "python",
   "name": "python2"
  },
  "language_info": {
   "codemirror_mode": {
    "name": "ipython",
    "version": 2
   },
   "file_extension": ".py",
   "mimetype": "text/x-python",
   "name": "python",
   "nbconvert_exporter": "python",
   "pygments_lexer": "ipython2",
   "version": "2.7.12"
  }
 },
 "nbformat": 4,
 "nbformat_minor": 0
}

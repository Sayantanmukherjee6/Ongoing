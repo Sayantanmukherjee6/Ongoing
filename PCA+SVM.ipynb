{
 "cells": [
  {
   "cell_type": "code",
   "execution_count": 13,
   "metadata": {
    "collapsed": true
   },
   "outputs": [],
   "source": [
    "from sknn.mlp import Classifier, Layer, Convolution\n",
    "from sklearn.cross_validation import train_test_split\n",
    "from sklearn.metrics import classification_report\n",
    "#from nolearn.dbn import DBN\n",
    "import numpy as np\n",
    "import matplotlib.pyplot as plt\n",
    "from glob import glob\n",
    "from sklearn.svm import LinearSVC\n",
    "from scipy.cluster.vq import *\n",
    "from sklearn.preprocessing import StandardScaler\n",
    "from PIL import Image\n",
    "import PIL.ImageOps\n",
    "from glob import glob\n",
    "from random import shuffle, seed\n",
    "import pylab as pl\n",
    "from sklearn import metrics\n",
    "from __future__ import print_function\n",
    "import cv2"
   ]
  },
  {
   "cell_type": "code",
   "execution_count": 14,
   "metadata": {
    "collapsed": true
   },
   "outputs": [],
   "source": [
    "def img_to_matrix(filename):\n",
    "    \"\"\"\n",
    "    takes a filename and turns it into a numpy array of RGB pixels\n",
    "    \"\"\"\n",
    "    img = cv2.imread(filename,0)\n",
    "    #img = list(img.getdata())\n",
    "    #img = map(list, img)\n",
    "    img = np.array(img)\n",
    "    #s = img.shape[0] * img.shape[1]\n",
    "    #img_wide = img.reshape(1, s)\n",
    "    return img\n",
    "\n",
    "shirt = glob('D:/python image processing/bag/dataset/shirt_resized/*')\n",
    "collared_tees = glob('D:/python image processing/bag/dataset/collared_tees_resized/*')\n",
    "normal_tees = glob('D:/python image processing/bag/dataset/normal_tees_resized/*')\n",
    "\n",
    "process_file = img_to_matrix\n",
    "\n",
    "raw_data = [(process_file(filename),'shirt',filename) for filename in shirt] + \\\n",
    "           [(process_file(filename),'collared_tees',filename) for filename in collared_tees] + \\\n",
    "           [(process_file(filename),'normal_tees',filename) for filename in normal_tees]\n",
    "\n",
    "# randomly order the data\n",
    "seed(0)\n",
    "shuffle(raw_data)"
   ]
  },
  {
   "cell_type": "code",
   "execution_count": 15,
   "metadata": {
    "collapsed": false
   },
   "outputs": [],
   "source": [
    "data = np.array([cd for (cd,_y,f) in raw_data])\n",
    "labels = np.array([_y for (cd,_y,f) in raw_data])\n",
    "y = [(0 if label == 'collared_tees' else( 1 if label=='normal_tees' else 2 )) for label in labels]\n",
    "l=[StandardScaler().fit_transform(data) for data in data]\n",
    "l=np.asarray(l)\n",
    "y=np.asarray(y)\n",
    "X_train, X_test, y_train, y_test = train_test_split(l, y, test_size=0.2, random_state=2)"
   ]
  },
  {
   "cell_type": "code",
   "execution_count": 16,
   "metadata": {
    "collapsed": false
   },
   "outputs": [],
   "source": [
    "ata = l.reshape((len(raw_data),-1))"
   ]
  },
  {
   "cell_type": "code",
   "execution_count": 17,
   "metadata": {
    "collapsed": false
   },
   "outputs": [
    {
     "data": {
      "text/plain": [
       "(658L, 2500L)"
      ]
     },
     "execution_count": 17,
     "metadata": {},
     "output_type": "execute_result"
    }
   ],
   "source": [
    "ata.shape"
   ]
  },
  {
   "cell_type": "code",
   "execution_count": 345,
   "metadata": {
    "collapsed": false
   },
   "outputs": [
    {
     "name": "stdout",
     "output_type": "stream",
     "text": [
      "0.575757575758\n"
     ]
    }
   ],
   "source": [
    "X_train, X_test, y_train, y_test = train_test_split(ata, y, test_size=0.2, random_state=2)\n",
    "from sklearn.decomposition import PCA\n",
    "from sklearn import svm\n",
    "from sklearn.svm import NuSVC\n",
    "pca = PCA(n_components=15,whiten=True)#15\n",
    "X_train = pca.fit_transform(X_train)\n",
    "X_test = pca.transform(X_test)\n",
    "svc = NuSVC(nu=0.05)\n",
    "svc.fit(X_train, y_train)\n",
    "preds = svc.predict(X_test)\n",
    "print (metrics.accuracy_score(y_test, preds))"
   ]
  },
  {
   "cell_type": "code",
   "execution_count": null,
   "metadata": {
    "collapsed": true
   },
   "outputs": [],
   "source": []
  }
 ],
 "metadata": {
  "kernelspec": {
   "display_name": "Python 2",
   "language": "python",
   "name": "python2"
  },
  "language_info": {
   "codemirror_mode": {
    "name": "ipython",
    "version": 2
   },
   "file_extension": ".py",
   "mimetype": "text/x-python",
   "name": "python",
   "nbconvert_exporter": "python",
   "pygments_lexer": "ipython2",
   "version": "2.7.10"
  }
 },
 "nbformat": 4,
 "nbformat_minor": 0
}

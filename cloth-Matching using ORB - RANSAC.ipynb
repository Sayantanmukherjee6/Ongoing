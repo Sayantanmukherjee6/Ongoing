{
 "cells": [
  {
   "cell_type": "code",
   "execution_count": 1,
   "metadata": {
    "collapsed": true
   },
   "outputs": [],
   "source": [
    "import numpy as np\n",
    "import cv2\n",
    "import matplotlib.pyplot as plt\n",
    "import skdemo\n",
    "from skimage.feature import (match_descriptors, corner_harris,\n",
    "                             corner_peaks, ORB, plot_matches)\n"
   ]
  },
  {
   "cell_type": "code",
   "execution_count": 19,
   "metadata": {
    "collapsed": false
   },
   "outputs": [],
   "source": [
    "img1=cv2.imread(\"bag\\original dataset\\shirt19.jpg\",0)\n",
    "img2 = cv2.imread(\"bag\\original dataset\\collared_tees/c3.jpg\",0)\n",
    "\n",
    "# n_keypoints e orb er point gulo assign kor\n",
    "\n",
    "descriptor_extractor = ORB(n_keypoints=500) \n",
    "\n",
    "descriptor_extractor.detect_and_extract(img1)\n",
    "keypoints1 = descriptor_extractor.keypoints\n",
    "descriptors1 = descriptor_extractor.descriptors\n",
    "\n",
    "descriptor_extractor.detect_and_extract(img2)\n",
    "keypoints2 = descriptor_extractor.keypoints\n",
    "descriptors2 = descriptor_extractor.descriptors\n",
    "\n",
    "\n",
    "# Match descriptors between left/right images and the center\n",
    "matches01 = match_descriptors(descriptors1, descriptors2, cross_check=True)\n",
    "\n",
    "\n",
    "fig, ax = plt.subplots(1, 1, figsize=(15, 12))\n",
    "\n",
    "plt.gray()\n",
    "\n",
    "plot_matches(ax, img1, img2, keypoints1, keypoints2, matches01)\n",
    "ax.axis('off')\n",
    "\n",
    "\n",
    "plt.show()\n"
   ]
  },
  {
   "cell_type": "code",
   "execution_count": 20,
   "metadata": {
    "collapsed": true
   },
   "outputs": [],
   "source": [
    "from skimage.transform import ProjectiveTransform\n",
    "from skimage.measure import ransac\n",
    "\n",
    "# Select keypoints from \n",
    "#   * source (image to be registered): pano0\n",
    "#   * target (reference image): pano1, our middle frame registration target\n",
    "src = keypoints1[matches01[:, 0]][:, ::-1]\n",
    "dst = keypoints2[matches01[:, 1]][:, ::-1]\n",
    "\n",
    "model_robust01, inliers01 = ransac((src, dst), ProjectiveTransform,\n",
    "                                   min_samples=4, residual_threshold=1, max_trials=300)\n",
    "\n",
    "\n",
    "fig, ax = plt.subplots(1, 1, figsize=(15, 12))\n",
    "\n",
    "# Best match subset for pano0 -> pano1\n",
    "plot_matches(ax, img1, img2, keypoints1, keypoints2, matches01[inliers01])\n",
    "\n",
    "ax.axis('off');\n",
    "plt.show()"
   ]
  },
  {
   "cell_type": "code",
   "execution_count": null,
   "metadata": {
    "collapsed": true
   },
   "outputs": [],
   "source": []
  }
 ],
 "metadata": {
  "kernelspec": {
   "display_name": "Python 2",
   "language": "python",
   "name": "python2"
  },
  "language_info": {
   "codemirror_mode": {
    "name": "ipython",
    "version": 2
   },
   "file_extension": ".py",
   "mimetype": "text/x-python",
   "name": "python",
   "nbconvert_exporter": "python",
   "pygments_lexer": "ipython2",
   "version": "2.7.12"
  }
 },
 "nbformat": 4,
 "nbformat_minor": 0
}

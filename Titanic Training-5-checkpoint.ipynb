{
 "cells": [
  {
   "cell_type": "code",
   "execution_count": 342,
   "metadata": {
    "collapsed": false
   },
   "outputs": [
    {
     "name": "stdout",
     "output_type": "stream",
     "text": [
      "Populating the interactive namespace from numpy and matplotlib\n"
     ]
    },
    {
     "name": "stderr",
     "output_type": "stream",
     "text": [
      "WARNING: pylab import has clobbered these variables: ['title', 'clf', 'test', 'table']\n",
      "`%matplotlib` prevents importing * from pylab and numpy\n"
     ]
    }
   ],
   "source": [
    "import pandas as pd\n",
    "import matplotlib.pyplot as plt\n",
    "import numpy as np\n",
    "%pylab inline"
   ]
  },
  {
   "cell_type": "code",
   "execution_count": 343,
   "metadata": {
    "collapsed": false
   },
   "outputs": [],
   "source": [
    "x=pd.read_csv('C:/Users/admin/Documents/Python Scripts/train.csv')\n",
    "#x.head(1)"
   ]
  },
  {
   "cell_type": "markdown",
   "metadata": {},
   "source": [
    "In fifth notebook we are going to :\n",
    "\n",
    "<li>1) Do some more feature engineering with Cabin columns and filling in the missing values of EMbarked\n",
    "<li>2)Test and make predictions on the training set\n",
    "<li>3)Outputting result to the test set"
   ]
  },
  {
   "cell_type": "code",
   "execution_count": 344,
   "metadata": {
    "collapsed": false
   },
   "outputs": [
    {
     "name": "stderr",
     "output_type": "stream",
     "text": [
      "C:\\Users\\admin\\Anaconda\\lib\\site-packages\\IPython\\kernel\\__main__.py:7: SettingWithCopyWarning: \n",
      "A value is trying to be set on a copy of a slice from a DataFrame\n",
      "\n",
      "See the the caveats in the documentation: http://pandas.pydata.org/pandas-docs/stable/indexing.html#indexing-view-versus-copy\n"
     ]
    }
   ],
   "source": [
    "import re\n",
    "\n",
    "# Creating a new colmn Ecabin ( just for the purpose of not disturbing original Cabin colmn)\n",
    "x['Ecabin'] = x['Cabin']\n",
    "\n",
    "# Replace missing values of Cabin in Ecabin column with \"U0\"\n",
    "x['Ecabin'][x.Ecabin.isnull()] = 'U0'\n",
    "\n",
    "# Extracting alphas from alphanumeric Ecabin.\n",
    "# Go through python regular experssion if you don't know 're' \n",
    "x['CabinLetter'] = x['Ecabin'].map( lambda x : re.compile(\"([a-zA-Z]+)\").search(x).group()) "
   ]
  },
  {
   "cell_type": "code",
   "execution_count": 345,
   "metadata": {
    "collapsed": false
   },
   "outputs": [
    {
     "data": {
      "text/plain": [
       "Pclass  CabinLetter\n",
       "1       A               15\n",
       "        B               47\n",
       "        C               59\n",
       "        D               29\n",
       "        E               25\n",
       "        T                1\n",
       "        U               40\n",
       "2       D                4\n",
       "        E                4\n",
       "        F                8\n",
       "        U              168\n",
       "3       E                3\n",
       "        F                5\n",
       "        G                4\n",
       "        U              479\n",
       "Name: Pclass, dtype: int64"
      ]
     },
     "execution_count": 345,
     "metadata": {},
     "output_type": "execute_result"
    }
   ],
   "source": [
    "#Checking Cabin letter for each Passenger Class\n",
    "x.groupby(['Pclass','CabinLetter']).Pclass.count()"
   ]
  },
  {
   "cell_type": "markdown",
   "metadata": {},
   "source": [
    "From above series we can calculate the mode values of Cabinletter for each class. \n",
    "\n",
    "We can also calculate the mean for each class assuming A,B,C,T belongs to CLass 1 , D,E,F belongs to Class 2 and G belongs to class 3. So mean value for class 1 = A+B+C+T/4 =30.5.. Thus at first we are going to formulate our model based on mode value of Cabinletter then we are going to take the mean and formulate our model again to check which model is best."
   ]
  },
  {
   "cell_type": "code",
   "execution_count": 346,
   "metadata": {
    "collapsed": false
   },
   "outputs": [
    {
     "data": {
      "text/html": [
       "<div>\n",
       "<table border=\"1\" class=\"dataframe\">\n",
       "  <thead>\n",
       "    <tr style=\"text-align: right;\">\n",
       "      <th></th>\n",
       "      <th>PassengerId</th>\n",
       "      <th>Survived</th>\n",
       "      <th>Pclass</th>\n",
       "      <th>Name</th>\n",
       "      <th>Sex</th>\n",
       "      <th>Age</th>\n",
       "      <th>SibSp</th>\n",
       "      <th>Parch</th>\n",
       "      <th>Ticket</th>\n",
       "      <th>Fare</th>\n",
       "      <th>Cabin</th>\n",
       "      <th>Embarked</th>\n",
       "      <th>Ecabin</th>\n",
       "      <th>CabinLetter</th>\n",
       "    </tr>\n",
       "  </thead>\n",
       "  <tbody>\n",
       "    <tr>\n",
       "      <th>0</th>\n",
       "      <td>1</td>\n",
       "      <td>0</td>\n",
       "      <td>3</td>\n",
       "      <td>Braund, Mr. Owen Harris</td>\n",
       "      <td>male</td>\n",
       "      <td>22</td>\n",
       "      <td>1</td>\n",
       "      <td>0</td>\n",
       "      <td>A/5 21171</td>\n",
       "      <td>7.25</td>\n",
       "      <td>NaN</td>\n",
       "      <td>S</td>\n",
       "      <td>U0</td>\n",
       "      <td>G</td>\n",
       "    </tr>\n",
       "  </tbody>\n",
       "</table>\n",
       "</div>"
      ],
      "text/plain": [
       "   PassengerId  Survived  Pclass                     Name   Sex  Age  SibSp  \\\n",
       "0            1         0       3  Braund, Mr. Owen Harris  male   22      1   \n",
       "\n",
       "   Parch     Ticket  Fare Cabin Embarked Ecabin CabinLetter  \n",
       "0      0  A/5 21171  7.25   NaN        S     U0           G  "
      ]
     },
     "execution_count": 346,
     "metadata": {},
     "output_type": "execute_result"
    }
   ],
   "source": [
    "x.loc[(x['Pclass'] == 3) & (x['CabinLetter'] == 'U'), 'CabinLetter'] = 'G'\n",
    "x.loc[(x['Pclass'] == 1) & (x['CabinLetter'] == 'U'), 'CabinLetter'] = 'C'\n",
    "x.loc[(x['Pclass'] == 2) & (x['CabinLetter'] == 'U'), 'CabinLetter'] = 'F'\n",
    "x.head(1)"
   ]
  },
  {
   "cell_type": "code",
   "execution_count": 347,
   "metadata": {
    "collapsed": false
   },
   "outputs": [
    {
     "data": {
      "text/html": [
       "<div>\n",
       "<table border=\"1\" class=\"dataframe\">\n",
       "  <thead>\n",
       "    <tr style=\"text-align: right;\">\n",
       "      <th></th>\n",
       "      <th>PassengerId</th>\n",
       "      <th>Survived</th>\n",
       "      <th>Pclass</th>\n",
       "      <th>Name</th>\n",
       "      <th>Sex</th>\n",
       "      <th>Age</th>\n",
       "      <th>SibSp</th>\n",
       "      <th>Parch</th>\n",
       "      <th>Ticket</th>\n",
       "      <th>Fare</th>\n",
       "      <th>Embarked</th>\n",
       "      <th>Deck_A</th>\n",
       "      <th>Deck_B</th>\n",
       "      <th>Deck_C</th>\n",
       "      <th>Deck_D</th>\n",
       "      <th>Deck_E</th>\n",
       "      <th>Deck_F</th>\n",
       "      <th>Deck_G</th>\n",
       "    </tr>\n",
       "  </thead>\n",
       "  <tbody>\n",
       "    <tr>\n",
       "      <th>0</th>\n",
       "      <td>1</td>\n",
       "      <td>0</td>\n",
       "      <td>3</td>\n",
       "      <td>Braund, Mr. Owen Harris</td>\n",
       "      <td>male</td>\n",
       "      <td>22</td>\n",
       "      <td>1</td>\n",
       "      <td>0</td>\n",
       "      <td>A/5 21171</td>\n",
       "      <td>7.2500</td>\n",
       "      <td>S</td>\n",
       "      <td>0</td>\n",
       "      <td>0</td>\n",
       "      <td>0</td>\n",
       "      <td>0</td>\n",
       "      <td>0</td>\n",
       "      <td>0</td>\n",
       "      <td>1</td>\n",
       "    </tr>\n",
       "    <tr>\n",
       "      <th>1</th>\n",
       "      <td>2</td>\n",
       "      <td>1</td>\n",
       "      <td>1</td>\n",
       "      <td>Cumings, Mrs. John Bradley (Florence Briggs Th...</td>\n",
       "      <td>female</td>\n",
       "      <td>38</td>\n",
       "      <td>1</td>\n",
       "      <td>0</td>\n",
       "      <td>PC 17599</td>\n",
       "      <td>71.2833</td>\n",
       "      <td>C</td>\n",
       "      <td>0</td>\n",
       "      <td>0</td>\n",
       "      <td>1</td>\n",
       "      <td>0</td>\n",
       "      <td>0</td>\n",
       "      <td>0</td>\n",
       "      <td>0</td>\n",
       "    </tr>\n",
       "  </tbody>\n",
       "</table>\n",
       "</div>"
      ],
      "text/plain": [
       "   PassengerId  Survived  Pclass  \\\n",
       "0            1         0       3   \n",
       "1            2         1       1   \n",
       "\n",
       "                                                Name     Sex  Age  SibSp  \\\n",
       "0                            Braund, Mr. Owen Harris    male   22      1   \n",
       "1  Cumings, Mrs. John Bradley (Florence Briggs Th...  female   38      1   \n",
       "\n",
       "   Parch     Ticket     Fare Embarked  Deck_A  Deck_B  Deck_C  Deck_D  Deck_E  \\\n",
       "0      0  A/5 21171   7.2500        S       0       0       0       0       0   \n",
       "1      0   PC 17599  71.2833        C       0       0       1       0       0   \n",
       "\n",
       "   Deck_F  Deck_G  \n",
       "0       0       1  \n",
       "1       0       0  "
      ]
     },
     "execution_count": 347,
     "metadata": {},
     "output_type": "execute_result"
    }
   ],
   "source": [
    "dummies = pd.get_dummies(x['CabinLetter'], prefix = 'Deck')\n",
    "x= pd.concat([x,dummies],axis =1)\n",
    "\n",
    "# Along with others dropping Deck_T..   \n",
    "x.drop (['Cabin','Ecabin','CabinLetter','Deck_T'],axis =1 ,inplace= True)\n",
    "\n",
    "x.head(2)"
   ]
  },
  {
   "cell_type": "code",
   "execution_count": 348,
   "metadata": {
    "collapsed": false
   },
   "outputs": [
    {
     "data": {
      "text/html": [
       "<div>\n",
       "<table border=\"1\" class=\"dataframe\">\n",
       "  <thead>\n",
       "    <tr style=\"text-align: right;\">\n",
       "      <th></th>\n",
       "      <th>PassengerId</th>\n",
       "      <th>Pclass</th>\n",
       "      <th>Age</th>\n",
       "      <th>Fare</th>\n",
       "      <th>Deck_A</th>\n",
       "      <th>Deck_B</th>\n",
       "      <th>Deck_C</th>\n",
       "      <th>Deck_D</th>\n",
       "      <th>Deck_E</th>\n",
       "      <th>Deck_F</th>\n",
       "      <th>...</th>\n",
       "      <th>Sal_Master</th>\n",
       "      <th>Sal_Miss</th>\n",
       "      <th>Sal_Mr</th>\n",
       "      <th>Sal_Mrs</th>\n",
       "      <th>Family</th>\n",
       "      <th>Sex_female</th>\n",
       "      <th>Sex_male</th>\n",
       "      <th>Embarked_C</th>\n",
       "      <th>Embarked_Q</th>\n",
       "      <th>Embarked_S</th>\n",
       "    </tr>\n",
       "  </thead>\n",
       "  <tbody>\n",
       "    <tr>\n",
       "      <th>0</th>\n",
       "      <td>1</td>\n",
       "      <td>3</td>\n",
       "      <td>22</td>\n",
       "      <td>7.2500</td>\n",
       "      <td>0</td>\n",
       "      <td>0</td>\n",
       "      <td>0</td>\n",
       "      <td>0</td>\n",
       "      <td>0</td>\n",
       "      <td>0</td>\n",
       "      <td>...</td>\n",
       "      <td>0</td>\n",
       "      <td>0</td>\n",
       "      <td>1</td>\n",
       "      <td>0</td>\n",
       "      <td>1</td>\n",
       "      <td>0</td>\n",
       "      <td>1</td>\n",
       "      <td>0</td>\n",
       "      <td>0</td>\n",
       "      <td>1</td>\n",
       "    </tr>\n",
       "    <tr>\n",
       "      <th>1</th>\n",
       "      <td>2</td>\n",
       "      <td>1</td>\n",
       "      <td>38</td>\n",
       "      <td>71.2833</td>\n",
       "      <td>0</td>\n",
       "      <td>0</td>\n",
       "      <td>1</td>\n",
       "      <td>0</td>\n",
       "      <td>0</td>\n",
       "      <td>0</td>\n",
       "      <td>...</td>\n",
       "      <td>0</td>\n",
       "      <td>0</td>\n",
       "      <td>0</td>\n",
       "      <td>1</td>\n",
       "      <td>1</td>\n",
       "      <td>1</td>\n",
       "      <td>0</td>\n",
       "      <td>1</td>\n",
       "      <td>0</td>\n",
       "      <td>0</td>\n",
       "    </tr>\n",
       "  </tbody>\n",
       "</table>\n",
       "<p>2 rows × 21 columns</p>\n",
       "</div>"
      ],
      "text/plain": [
       "   PassengerId  Pclass  Age     Fare  Deck_A  Deck_B  Deck_C  Deck_D  Deck_E  \\\n",
       "0            1       3   22   7.2500       0       0       0       0       0   \n",
       "1            2       1   38  71.2833       0       0       1       0       0   \n",
       "\n",
       "   Deck_F     ...      Sal_Master  Sal_Miss  Sal_Mr  Sal_Mrs  Family  \\\n",
       "0       0     ...               0         0       1        0       1   \n",
       "1       0     ...               0         0       0        1       1   \n",
       "\n",
       "   Sex_female  Sex_male  Embarked_C  Embarked_Q  Embarked_S  \n",
       "0           0         1           0           0           1  \n",
       "1           1         0           1           0           0  \n",
       "\n",
       "[2 rows x 21 columns]"
      ]
     },
     "execution_count": 348,
     "metadata": {},
     "output_type": "execute_result"
    }
   ],
   "source": [
    "def title(name):\n",
    "    temp_1 = name.split(',') # Split by (,)\n",
    "    temp_2 = temp_1[1].split('.')[0] # Split by (.)\n",
    "    temp_3 = temp_2.strip() # Remove white space\n",
    "    return temp_3\n",
    "\n",
    "x['Title'] = x['Name'].apply(title)\n",
    "\n",
    "x ['Temp'] =x['Sex'] + x['Title'] #just for female doctors\n",
    "x.loc[x['Temp'] == 'femaleDr', 'Title'] = 'Mrs' #just for female doctors\n",
    "\n",
    "x.drop ([ 'Temp' ],axis =1 ,inplace= True) #just for female doctors\n",
    "\n",
    "def new_title(title):\n",
    "    if title == 'Mr' or title == 'Capt' or title == 'Don' or title == 'Dr' or title == 'Jonkheer' or title     == 'Major' or  title == 'Rev' or title == 'Sir' or title == 'Col':\n",
    "        return 'Mr'\n",
    "    elif title == 'Mrs' or title == 'Lady' or title == 'Mme' or title == 'Ms' or title == 'the       Countess':\n",
    "        return 'Mrs'\n",
    "    elif title == 'Miss' or title == 'Mlle':\n",
    "        return 'Miss'\n",
    "    else:\n",
    "        return 'Master'\n",
    "    \n",
    "x['NewTitle'] = x['Title'].apply(new_title)\n",
    "\n",
    "dummies1 = pd.get_dummies(x['NewTitle'], prefix = 'Sal')\n",
    "x= pd.concat([x,dummies1],axis =1)\n",
    "#x.drop ([ 'Title' ],axis =1 ,inplace= True) # dropping some columns\n",
    "\n",
    "table = x.pivot_table(values='Age', index=['NewTitle'], columns=['Pclass', 'Sex'], aggfunc=np.median)\n",
    "# Define function to return value of this pivot_table\n",
    "def fage(age_calc):\n",
    "    return table [age_calc['Pclass']] [age_calc['Sex']] [age_calc['NewTitle']]\n",
    "# Replace missing values\n",
    "x['Age'].fillna(x[x['Age'].isnull()].apply(fage, axis=1), inplace=True)\n",
    "\n",
    "x['Family'] = x['SibSp'] + x['Parch']\n",
    "\n",
    "x['Fare'].fillna(x.Fare.mean(),inplace=True)\n",
    "\n",
    "dummies2 = pd.get_dummies(x['Sex'], prefix = 'Sex')\n",
    "x= pd.concat([x,dummies2],axis =1)\n",
    "dummies3 = pd.get_dummies(x['Embarked'], prefix = 'Embarked')\n",
    "x= pd.concat([x,dummies3],axis =1)\n",
    "\n",
    "\n",
    "x.drop (['Title','Name','SibSp','Parch','Ticket','NewTitle' ,'Sex','Embarked'],axis =1 ,inplace= True)\n",
    "\n",
    "y=x.pop('Survived')\n",
    "x.head(2)"
   ]
  },
  {
   "cell_type": "code",
   "execution_count": 349,
   "metadata": {
    "collapsed": false
   },
   "outputs": [],
   "source": [
    "xtest = pd.read_csv('C:/Users/admin/Documents/Python Scripts/test.csv')"
   ]
  },
  {
   "cell_type": "code",
   "execution_count": 350,
   "metadata": {
    "collapsed": false
   },
   "outputs": [
    {
     "name": "stderr",
     "output_type": "stream",
     "text": [
      "C:\\Users\\admin\\Anaconda\\lib\\site-packages\\IPython\\kernel\\__main__.py:5: SettingWithCopyWarning: \n",
      "A value is trying to be set on a copy of a slice from a DataFrame\n",
      "\n",
      "See the the caveats in the documentation: http://pandas.pydata.org/pandas-docs/stable/indexing.html#indexing-view-versus-copy\n"
     ]
    }
   ],
   "source": [
    "# Creating a new colmn Ecabin ( just for the purpose of not disturbing original Cabin colmn)\n",
    "xtest['Ecabin'] = xtest['Cabin']\n",
    "\n",
    "# Replace missing values of Cabin in Ecabin column with \"U0\"\n",
    "xtest['Ecabin'][xtest.Ecabin.isnull()] = 'U0'\n",
    "\n",
    "# Extracting alphas from alphanumeric Ecabin.\n",
    "# Go through python regular experssion if you don't know 're' \n",
    "xtest['CabinLetter'] = xtest['Ecabin'].map( lambda x : re.compile(\"([a-zA-Z]+)\").search(x).group()) "
   ]
  },
  {
   "cell_type": "code",
   "execution_count": 351,
   "metadata": {
    "collapsed": false
   },
   "outputs": [
    {
     "data": {
      "text/html": [
       "<div>\n",
       "<table border=\"1\" class=\"dataframe\">\n",
       "  <thead>\n",
       "    <tr style=\"text-align: right;\">\n",
       "      <th></th>\n",
       "      <th>PassengerId</th>\n",
       "      <th>Pclass</th>\n",
       "      <th>Name</th>\n",
       "      <th>Sex</th>\n",
       "      <th>Age</th>\n",
       "      <th>SibSp</th>\n",
       "      <th>Parch</th>\n",
       "      <th>Ticket</th>\n",
       "      <th>Fare</th>\n",
       "      <th>Embarked</th>\n",
       "      <th>Deck_A</th>\n",
       "      <th>Deck_B</th>\n",
       "      <th>Deck_C</th>\n",
       "      <th>Deck_D</th>\n",
       "      <th>Deck_E</th>\n",
       "      <th>Deck_F</th>\n",
       "      <th>Deck_G</th>\n",
       "    </tr>\n",
       "  </thead>\n",
       "  <tbody>\n",
       "    <tr>\n",
       "      <th>0</th>\n",
       "      <td>892</td>\n",
       "      <td>3</td>\n",
       "      <td>Kelly, Mr. James</td>\n",
       "      <td>male</td>\n",
       "      <td>34.5</td>\n",
       "      <td>0</td>\n",
       "      <td>0</td>\n",
       "      <td>330911</td>\n",
       "      <td>7.8292</td>\n",
       "      <td>Q</td>\n",
       "      <td>0</td>\n",
       "      <td>0</td>\n",
       "      <td>0</td>\n",
       "      <td>0</td>\n",
       "      <td>0</td>\n",
       "      <td>0</td>\n",
       "      <td>1</td>\n",
       "    </tr>\n",
       "    <tr>\n",
       "      <th>1</th>\n",
       "      <td>893</td>\n",
       "      <td>3</td>\n",
       "      <td>Wilkes, Mrs. James (Ellen Needs)</td>\n",
       "      <td>female</td>\n",
       "      <td>47.0</td>\n",
       "      <td>1</td>\n",
       "      <td>0</td>\n",
       "      <td>363272</td>\n",
       "      <td>7.0000</td>\n",
       "      <td>S</td>\n",
       "      <td>0</td>\n",
       "      <td>0</td>\n",
       "      <td>0</td>\n",
       "      <td>0</td>\n",
       "      <td>0</td>\n",
       "      <td>0</td>\n",
       "      <td>1</td>\n",
       "    </tr>\n",
       "  </tbody>\n",
       "</table>\n",
       "</div>"
      ],
      "text/plain": [
       "   PassengerId  Pclass                              Name     Sex   Age  SibSp  \\\n",
       "0          892       3                  Kelly, Mr. James    male  34.5      0   \n",
       "1          893       3  Wilkes, Mrs. James (Ellen Needs)  female  47.0      1   \n",
       "\n",
       "   Parch  Ticket    Fare Embarked  Deck_A  Deck_B  Deck_C  Deck_D  Deck_E  \\\n",
       "0      0  330911  7.8292        Q       0       0       0       0       0   \n",
       "1      0  363272  7.0000        S       0       0       0       0       0   \n",
       "\n",
       "   Deck_F  Deck_G  \n",
       "0       0       1  \n",
       "1       0       1  "
      ]
     },
     "execution_count": 351,
     "metadata": {},
     "output_type": "execute_result"
    }
   ],
   "source": [
    "#xtest.groupby(['Pclass','CabinLetter']).Pclass.count()\n",
    "xtest.loc[(xtest['Pclass'] == 3) & (xtest['CabinLetter'] == 'U'), 'CabinLetter'] = 'G'\n",
    "xtest.loc[(xtest['Pclass'] == 1) & (xtest['CabinLetter'] == 'U'), 'CabinLetter'] = 'C'\n",
    "xtest.loc[(xtest['Pclass'] == 2) & (xtest['CabinLetter'] == 'U'), 'CabinLetter'] = 'F'\n",
    "\n",
    "dummies4 = pd.get_dummies(xtest['CabinLetter'], prefix = 'Deck')\n",
    "xtest= pd.concat([xtest,dummies4],axis =1)\n",
    "\n",
    "xtest.drop (['Cabin','Ecabin','CabinLetter'],axis =1 ,inplace= True)\n",
    "\n",
    "xtest.head(2)"
   ]
  },
  {
   "cell_type": "code",
   "execution_count": 352,
   "metadata": {
    "collapsed": false
   },
   "outputs": [
    {
     "data": {
      "text/html": [
       "<div>\n",
       "<table border=\"1\" class=\"dataframe\">\n",
       "  <thead>\n",
       "    <tr style=\"text-align: right;\">\n",
       "      <th></th>\n",
       "      <th>PassengerId</th>\n",
       "      <th>Pclass</th>\n",
       "      <th>Age</th>\n",
       "      <th>Fare</th>\n",
       "      <th>Deck_A</th>\n",
       "      <th>Deck_B</th>\n",
       "      <th>Deck_C</th>\n",
       "      <th>Deck_D</th>\n",
       "      <th>Deck_E</th>\n",
       "      <th>Deck_F</th>\n",
       "      <th>...</th>\n",
       "      <th>Sal_Master</th>\n",
       "      <th>Sal_Miss</th>\n",
       "      <th>Sal_Mr</th>\n",
       "      <th>Sal_Mrs</th>\n",
       "      <th>Family</th>\n",
       "      <th>Sex_female</th>\n",
       "      <th>Sex_male</th>\n",
       "      <th>Embarked_C</th>\n",
       "      <th>Embarked_Q</th>\n",
       "      <th>Embarked_S</th>\n",
       "    </tr>\n",
       "  </thead>\n",
       "  <tbody>\n",
       "    <tr>\n",
       "      <th>0</th>\n",
       "      <td>892</td>\n",
       "      <td>3</td>\n",
       "      <td>34.5</td>\n",
       "      <td>7.8292</td>\n",
       "      <td>0</td>\n",
       "      <td>0</td>\n",
       "      <td>0</td>\n",
       "      <td>0</td>\n",
       "      <td>0</td>\n",
       "      <td>0</td>\n",
       "      <td>...</td>\n",
       "      <td>0</td>\n",
       "      <td>0</td>\n",
       "      <td>1</td>\n",
       "      <td>0</td>\n",
       "      <td>0</td>\n",
       "      <td>0</td>\n",
       "      <td>1</td>\n",
       "      <td>0</td>\n",
       "      <td>1</td>\n",
       "      <td>0</td>\n",
       "    </tr>\n",
       "    <tr>\n",
       "      <th>1</th>\n",
       "      <td>893</td>\n",
       "      <td>3</td>\n",
       "      <td>47.0</td>\n",
       "      <td>7.0000</td>\n",
       "      <td>0</td>\n",
       "      <td>0</td>\n",
       "      <td>0</td>\n",
       "      <td>0</td>\n",
       "      <td>0</td>\n",
       "      <td>0</td>\n",
       "      <td>...</td>\n",
       "      <td>0</td>\n",
       "      <td>0</td>\n",
       "      <td>0</td>\n",
       "      <td>1</td>\n",
       "      <td>1</td>\n",
       "      <td>1</td>\n",
       "      <td>0</td>\n",
       "      <td>0</td>\n",
       "      <td>0</td>\n",
       "      <td>1</td>\n",
       "    </tr>\n",
       "  </tbody>\n",
       "</table>\n",
       "<p>2 rows × 21 columns</p>\n",
       "</div>"
      ],
      "text/plain": [
       "   PassengerId  Pclass   Age    Fare  Deck_A  Deck_B  Deck_C  Deck_D  Deck_E  \\\n",
       "0          892       3  34.5  7.8292       0       0       0       0       0   \n",
       "1          893       3  47.0  7.0000       0       0       0       0       0   \n",
       "\n",
       "   Deck_F     ...      Sal_Master  Sal_Miss  Sal_Mr  Sal_Mrs  Family  \\\n",
       "0       0     ...               0         0       1        0       0   \n",
       "1       0     ...               0         0       0        1       1   \n",
       "\n",
       "   Sex_female  Sex_male  Embarked_C  Embarked_Q  Embarked_S  \n",
       "0           0         1           0           1           0  \n",
       "1           1         0           0           0           1  \n",
       "\n",
       "[2 rows x 21 columns]"
      ]
     },
     "execution_count": 352,
     "metadata": {},
     "output_type": "execute_result"
    }
   ],
   "source": [
    "def title(name):\n",
    "    temp_1 = name.split(',') # Split by (,)\n",
    "    temp_2 = temp_1[1].split('.')[0] # Split by (.)\n",
    "    temp_3 = temp_2.strip() # Remove white space\n",
    "    return temp_3\n",
    "\n",
    "xtest['Title'] = xtest['Name'].apply(title)\n",
    "\n",
    "def new_title(title):\n",
    "    if title == 'Mr' or title == 'Capt' or title == 'Don' or title == 'Dr' or title == 'Jonkheer' or title == 'Major' or  title == 'Rev' or title == 'Sir' or title == 'Col':\n",
    "        return 'Mr'\n",
    "    elif title == 'Mrs' or title == 'Lady' or title == 'Mme' or title == 'Ms' or title == 'the       Countess':\n",
    "        return 'Mrs'\n",
    "    elif title == 'Miss' or title == 'Mlle':\n",
    "        return 'Miss'\n",
    "    else:\n",
    "        return 'Master'\n",
    "    \n",
    "xtest['NewTitle'] = xtest['Title'].apply(new_title)\n",
    "\n",
    "dummies5 = pd.get_dummies(xtest['NewTitle'], prefix = 'Sal')\n",
    "xtest= pd.concat([xtest,dummies5],axis =1)\n",
    "\n",
    "\n",
    "table = xtest.pivot_table(values='Age', index=['NewTitle'], columns=['Pclass', 'Sex'], aggfunc=np.median)\n",
    "# Define function to return value of this pivot_table\n",
    "def fage2(age_calc):\n",
    "    return table [age_calc['Pclass']] [age_calc['Sex']] [age_calc['NewTitle']]\n",
    "# Replace missing values\n",
    "xtest['Age'].fillna(xtest[xtest['Age'].isnull()].apply(fage, axis=1), inplace=True)\n",
    "\n",
    "xtest['Family'] = xtest['SibSp'] + xtest['Parch']\n",
    "\n",
    "xtest['Fare'].fillna(x.Fare.mean(),inplace=True)\n",
    "\n",
    "dummies6 = pd.get_dummies(xtest['Sex'], prefix = 'Sex')\n",
    "xtest= pd.concat([xtest,dummies6],axis =1)\n",
    "dummies7 = pd.get_dummies(xtest['Embarked'], prefix = 'Embarked')\n",
    "xtest= pd.concat([xtest,dummies7],axis =1)\n",
    "\n",
    "\n",
    "xtest.drop (['Title','Name','SibSp','Parch','Ticket','NewTitle' ,'Sex','Embarked'],axis =1 ,inplace= True)\n",
    "\n",
    "\n",
    "xtest.head(2)"
   ]
  },
  {
   "cell_type": "code",
   "execution_count": 353,
   "metadata": {
    "collapsed": false
   },
   "outputs": [
    {
     "data": {
      "text/plain": [
       "(891, 21)"
      ]
     },
     "execution_count": 353,
     "metadata": {},
     "output_type": "execute_result"
    }
   ],
   "source": [
    "x.shape"
   ]
  },
  {
   "cell_type": "code",
   "execution_count": 354,
   "metadata": {
    "collapsed": false
   },
   "outputs": [
    {
     "data": {
      "text/plain": [
       "(418, 21)"
      ]
     },
     "execution_count": 354,
     "metadata": {},
     "output_type": "execute_result"
    }
   ],
   "source": [
    "xtest.shape"
   ]
  },
  {
   "cell_type": "code",
   "execution_count": 355,
   "metadata": {
    "collapsed": true
   },
   "outputs": [],
   "source": [
    "train=x.values\n",
    "target=y.values\n",
    "xtest1=xtest\n",
    "test=xtest.values\n",
    "\n",
    "from sklearn.cross_validation import train_test_split\n",
    "X_train, X_test, y_train, y_test = train_test_split(x, y, test_size=0.2)\n",
    "from sklearn import metrics\n",
    "from sklearn.metrics import roc_auc_score"
   ]
  },
  {
   "cell_type": "code",
   "execution_count": 356,
   "metadata": {
    "collapsed": false
   },
   "outputs": [
    {
     "name": "stdout",
     "output_type": "stream",
     "text": [
      "0.849162011173\n"
     ]
    }
   ],
   "source": [
    "from sklearn.linear_model import LogisticRegression\n",
    "logreg = LogisticRegression()\n",
    "logreg.fit(X_train, y_train)\n",
    "# STEP 3: make predictions on the testing set\n",
    "y_pred = logreg.predict(X_test)\n",
    "\n",
    "# compare actual response values (y_test) with predicted response values (y_pred)\n",
    "print metrics.accuracy_score(y_test, y_pred)"
   ]
  },
  {
   "cell_type": "code",
   "execution_count": 357,
   "metadata": {
    "collapsed": false
   },
   "outputs": [
    {
     "name": "stdout",
     "output_type": "stream",
     "text": [
      "0.837988826816\n"
     ]
    }
   ],
   "source": [
    "from sklearn.ensemble import RandomForestClassifier\n",
    "clf = RandomForestClassifier(n_estimators=100)\n",
    "clf.fit(X_train, y_train)\n",
    "# STEP 3: make predictions on the testing set\n",
    "y_pred = clf.predict(X_test)\n",
    "\n",
    "# compare actual response values (y_test) with predicted response values (y_pred)\n",
    "print metrics.accuracy_score(y_test, y_pred)"
   ]
  },
  {
   "cell_type": "code",
   "execution_count": 358,
   "metadata": {
    "collapsed": false
   },
   "outputs": [
    {
     "name": "stdout",
     "output_type": "stream",
     "text": [
      "0.843575418994\n"
     ]
    }
   ],
   "source": [
    "from sklearn.tree import DecisionTreeClassifier\n",
    "from sklearn.ensemble import AdaBoostClassifier\n",
    "clf = AdaBoostClassifier(DecisionTreeClassifier(max_depth=1),\n",
    "                         algorithm=\"SAMME\",\n",
    "                         n_estimators=90)\n",
    "clf.fit(X_train, y_train)\n",
    "# STEP 3: make predictions on the testing set\n",
    "y_pred = clf.predict(X_test)\n",
    "\n",
    "# compare actual response values (y_test) with predicted response values (y_pred)\n",
    "print metrics.accuracy_score(y_test, y_pred)"
   ]
  },
  {
   "cell_type": "code",
   "execution_count": 293,
   "metadata": {
    "collapsed": false
   },
   "outputs": [
    {
     "name": "stdout",
     "output_type": "stream",
     "text": [
      "0.804469273743\n"
     ]
    }
   ],
   "source": [
    "from sklearn import svm\n",
    "clf = svm.SVC(kernel ='linear')\n",
    "clf.fit(X_train, y_train)\n",
    "# STEP 3: make predictions on the testing set\n",
    "y_pred = clf.predict(X_test)\n",
    "\n",
    "# compare actual response values (y_test) with predicted response values (y_pred)\n",
    "print metrics.accuracy_score(y_test, y_pred)"
   ]
  },
  {
   "cell_type": "code",
   "execution_count": 359,
   "metadata": {
    "collapsed": false
   },
   "outputs": [
    {
     "data": {
      "text/plain": [
       "<matplotlib.text.Text at 0x1c9d1c88>"
      ]
     },
     "execution_count": 359,
     "metadata": {},
     "output_type": "execute_result"
    },
    {
     "data": {
      "image/png": "[encoded data removed]",
      "text/plain": [
       "<matplotlib.figure.Figure at 0x1f744898>"
      ]
     },
     "metadata": {},
     "output_type": "display_data"
    }
   ],
   "source": [
    "# import Matplotlib (scientific plotting library)\n",
    "from sklearn.neighbors import KNeighborsClassifier\n",
    "\n",
    "k_range = range(1, 100)\n",
    "scores = []\n",
    "for k in k_range:\n",
    "    knn = KNeighborsClassifier(n_neighbors=k)\n",
    "    knn.fit(X_train, y_train)\n",
    "    y_pred = knn.predict(X_test)\n",
    "    scores.append(metrics.accuracy_score(y_test, y_pred))\n",
    "\n",
    "# plot the relationship between K and testing accuracy\n",
    "plt.plot(k_range, scores)\n",
    "plt.xlabel('Value of K for KNN')\n",
    "plt.ylabel('Testing Accuracy')"
   ]
  },
  {
   "cell_type": "code",
   "execution_count": 360,
   "metadata": {
    "collapsed": false
   },
   "outputs": [
    {
     "name": "stdout",
     "output_type": "stream",
     "text": [
      "30 trees\n",
      "C_stat:  0.854296488032\n",
      "\n",
      "50 trees\n",
      "C_stat:  0.858655822921\n",
      "\n",
      "100 trees\n",
      "C_stat:  0.858887504128\n",
      "\n",
      "200 trees\n",
      "C_stat:  0.868402411615\n",
      "\n",
      "500 trees\n",
      "C_stat:  0.868775231948\n",
      "\n",
      "1000 trees\n",
      "C_stat:  0.867944375206\n",
      "\n",
      "2000 trees\n",
      "C_stat:  0.86968597876\n",
      "\n"
     ]
    },
    {
     "data": {
      "image/png": "[encoded data removed]",
      "text/plain": [
       "<matplotlib.figure.Figure at 0x1bf6ecf8>"
      ]
     },
     "metadata": {},
     "output_type": "display_data"
    }
   ],
   "source": [
    "from sklearn.ensemble import RandomForestRegressor\n",
    "results =[]\n",
    "n_estimator_options =[30,50,100,200,500,1000 ,2000]\n",
    "for trees in n_estimator_options:\n",
    "    clf = RandomForestRegressor(trees,oob_score =True,n_jobs=-1)\n",
    "    clf.fit(x,y)\n",
    "    print trees, 'trees'\n",
    "    roc = roc_auc_score(y, clf.oob_prediction_)\n",
    "    print \"C_stat: \", roc\n",
    "    results.append(roc)\n",
    "    print ''\n",
    "pd.Series(results,n_estimator_options).plot();"
   ]
  },
  {
   "cell_type": "code",
   "execution_count": 361,
   "metadata": {
    "collapsed": false
   },
   "outputs": [
    {
     "name": "stdout",
     "output_type": "stream",
     "text": [
      "auto Options\n",
      "C_stat:  0.869385059491\n",
      "\n",
      "None Options\n",
      "C_stat:  0.86985374791\n",
      "\n",
      "sqrt Options\n",
      "C_stat:  0.872809680546\n",
      "\n",
      "log2 Options\n",
      "C_stat:  0.871590025458\n",
      "\n",
      "0.9 Options\n",
      "C_stat:  0.870389011387\n",
      "\n",
      "0.2 Options\n",
      "C_stat:  0.872380937164\n",
      "\n"
     ]
    },
    {
     "data": {
      "image/png": "[encoded data removed]",
      "text/plain": [
       "<matplotlib.figure.Figure at 0x1f538f98>"
      ]
     },
     "metadata": {},
     "output_type": "display_data"
    }
   ],
   "source": [
    "\n",
    "results =[]\n",
    "max_features_options =['auto',None,'sqrt','log2',0.9 ,0.2]\n",
    "for i in max_features_options:\n",
    "    clf = RandomForestRegressor(n_estimators = 2000,max_features=i,oob_score =True,n_jobs=-1)\n",
    "    clf.fit(x,y)\n",
    "    print i, 'Options'\n",
    "    roc = roc_auc_score(y, clf.oob_prediction_)\n",
    "    print \"C_stat: \", roc\n",
    "    results.append(roc)\n",
    "    print ''\n",
    "pd.Series(results,max_features_options).plot(kind ='barh',xlim=(.85,.88));"
   ]
  },
  {
   "cell_type": "code",
   "execution_count": 362,
   "metadata": {
    "collapsed": false
   },
   "outputs": [
    {
     "name": "stdout",
     "output_type": "stream",
     "text": [
      "1 min_samples\n",
      "C_stat:  0.870330425335\n",
      "\n",
      "2 min_samples\n",
      "C_stat:  0.875648441078\n",
      "\n",
      "3 min_samples\n",
      "C_stat:  0.871616655482\n",
      "\n",
      "4 min_samples\n",
      "C_stat:  0.872213168014\n",
      "\n",
      "5 min_samples\n",
      "C_stat:  0.870956230893\n",
      "\n",
      "6 min_samples\n",
      "C_stat:  0.87261261837\n",
      "\n",
      "7 min_samples\n",
      "C_stat:  0.872106647919\n",
      "\n",
      "8 min_samples\n",
      "C_stat:  0.870173308195\n",
      "\n",
      "9 min_samples\n",
      "C_stat:  0.875957349354\n",
      "\n",
      "10 min_samples\n",
      "C_stat:  0.872447512223\n",
      "\n"
     ]
    },
    {
     "data": {
      "image/png": "[encoded data removed]",
      "text/plain": [
       "<matplotlib.figure.Figure at 0x1f9d0e48>"
      ]
     },
     "metadata": {},
     "output_type": "display_data"
    }
   ],
   "source": [
    "results =[]\n",
    "min_samples_leaf_options =[1,2,3,4,5,6,7,8,9,10]\n",
    "for i in min_samples_leaf_options:\n",
    "    clf = RandomForestRegressor(n_estimators = 100,\n",
    "                                max_features='sqrt',\n",
    "                                oob_score =True,\n",
    "                                n_jobs=-1,\n",
    "                                min_samples_leaf =i)\n",
    "    clf.fit(x,y)\n",
    "    print i, 'min_samples'\n",
    "    roc = roc_auc_score(y, clf.oob_prediction_)\n",
    "    print \"C_stat: \", roc\n",
    "    results.append(roc)\n",
    "    print ''\n",
    "pd.Series(results,min_samples_leaf_options).plot();"
   ]
  },
  {
   "cell_type": "code",
   "execution_count": 369,
   "metadata": {
    "collapsed": false
   },
   "outputs": [
    {
     "name": "stdout",
     "output_type": "stream",
     "text": [
      "C_stat:  0.877640366855\n"
     ]
    }
   ],
   "source": [
    "#SO from above best predictive RFregressor model is\n",
    "rr = RandomForestRegressor(n_estimators = 2000,\n",
    "                             max_features='auto',\n",
    "                             oob_score =True,\n",
    "                             min_samples_leaf=9)\n",
    "\n",
    "rr.fit(x,y)\n",
    "roc = roc_auc_score(y, rr.oob_prediction_)\n",
    "print \"C_stat: \", roc"
   ]
  },
  {
   "cell_type": "code",
   "execution_count": 366,
   "metadata": {
    "collapsed": false
   },
   "outputs": [
    {
     "name": "stdout",
     "output_type": "stream",
     "text": [
      "0.837988826816\n"
     ]
    }
   ],
   "source": [
    "clf = RandomForestClassifier(n_estimators=2000,max_features='auto',min_samples_leaf=9)\n",
    "clf.fit(X_train, y_train)\n",
    "# STEP 3: make predictions on the testing set\n",
    "y_pred = clf.predict(X_test)\n",
    "\n",
    "# compare actual response values (y_test) with predicted response values (y_pred)\n",
    "print metrics.accuracy_score(y_test, y_pred)"
   ]
  },
  {
   "cell_type": "code",
   "execution_count": 367,
   "metadata": {
    "collapsed": false
   },
   "outputs": [
    {
     "name": "stdout",
     "output_type": "stream",
     "text": [
      "(418, 21)\n",
      "(891, 21)\n",
      "(418, 21)\n",
      "(891L, 21L)\n",
      "(891L,)\n"
     ]
    }
   ],
   "source": [
    "print(xtest.shape)\n",
    "print(x.shape)\n",
    "print(xtest1.shape)\n",
    "print(train.shape)\n",
    "print(target.shape)"
   ]
  },
  {
   "cell_type": "code",
   "execution_count": 370,
   "metadata": {
    "collapsed": false
   },
   "outputs": [],
   "source": [
    "clf = svm.SVC(kernel ='linear')\n",
    "clf = clf.fit(train,target)\n",
    "clf_test_predict = clf.predict(test)\n",
    "xtest1['Survived'] = clf_test_predict\n",
    "xtest1[['PassengerId','Survived']].to_csv('T1.csv', index=False, float_format=\"%f\")"
   ]
  },
  {
   "cell_type": "code",
   "execution_count": 373,
   "metadata": {
    "collapsed": false
   },
   "outputs": [
    {
     "data": {
      "text/plain": [
       "(418, 22)"
      ]
     },
     "execution_count": 373,
     "metadata": {},
     "output_type": "execute_result"
    }
   ],
   "source": [
    "xtest1.shape"
   ]
  },
  {
   "cell_type": "code",
   "execution_count": 374,
   "metadata": {
    "collapsed": false
   },
   "outputs": [
    {
     "data": {
      "text/plain": [
       "(891, 21)"
      ]
     },
     "execution_count": 374,
     "metadata": {},
     "output_type": "execute_result"
    }
   ],
   "source": [
    "x.shape"
   ]
  },
  {
   "cell_type": "code",
   "execution_count": 321,
   "metadata": {
    "collapsed": false
   },
   "outputs": [
    {
     "name": "stdout",
     "output_type": "stream",
     "text": [
      "<class 'pandas.core.frame.DataFrame'>\n",
      "Int64Index: 891 entries, 0 to 890\n",
      "Data columns (total 21 columns):\n",
      "PassengerId    891 non-null int64\n",
      "Pclass         891 non-null int64\n",
      "Age            891 non-null float64\n",
      "Fare           891 non-null float64\n",
      "Deck_A         891 non-null float64\n",
      "Deck_B         891 non-null float64\n",
      "Deck_C         891 non-null float64\n",
      "Deck_D         891 non-null float64\n",
      "Deck_E         891 non-null float64\n",
      "Deck_F         891 non-null float64\n",
      "Deck_G         891 non-null float64\n",
      "Sal_Master     891 non-null float64\n",
      "Sal_Miss       891 non-null float64\n",
      "Sal_Mr         891 non-null float64\n",
      "Sal_Mrs        891 non-null float64\n",
      "Family         891 non-null int64\n",
      "Sex_female     891 non-null float64\n",
      "Sex_male       891 non-null float64\n",
      "Embarked_C     891 non-null float64\n",
      "Embarked_Q     891 non-null float64\n",
      "Embarked_S     891 non-null float64\n",
      "dtypes: float64(18), int64(3)\n",
      "memory usage: 153.1 KB\n"
     ]
    }
   ],
   "source": [
    "x.info()"
   ]
  },
  {
   "cell_type": "code",
   "execution_count": 322,
   "metadata": {
    "collapsed": false
   },
   "outputs": [
    {
     "name": "stdout",
     "output_type": "stream",
     "text": [
      "<class 'pandas.core.frame.DataFrame'>\n",
      "Int64Index: 418 entries, 0 to 417\n",
      "Data columns (total 22 columns):\n",
      "PassengerId    418 non-null int64\n",
      "Pclass         418 non-null int64\n",
      "Age            418 non-null float64\n",
      "Fare           418 non-null float64\n",
      "Deck_A         418 non-null float64\n",
      "Deck_B         418 non-null float64\n",
      "Deck_C         418 non-null float64\n",
      "Deck_D         418 non-null float64\n",
      "Deck_E         418 non-null float64\n",
      "Deck_F         418 non-null float64\n",
      "Deck_G         418 non-null float64\n",
      "Sal_Master     418 non-null float64\n",
      "Sal_Miss       418 non-null float64\n",
      "Sal_Mr         418 non-null float64\n",
      "Sal_Mrs        418 non-null float64\n",
      "Family         418 non-null int64\n",
      "Sex_female     418 non-null float64\n",
      "Sex_male       418 non-null float64\n",
      "Embarked_C     418 non-null float64\n",
      "Embarked_Q     418 non-null float64\n",
      "Embarked_S     418 non-null float64\n",
      "Survived       418 non-null int64\n",
      "dtypes: float64(18), int64(4)\n",
      "memory usage: 75.1 KB\n"
     ]
    }
   ],
   "source": [
    "xtest.info()"
   ]
  },
  {
   "cell_type": "code",
   "execution_count": null,
   "metadata": {
    "collapsed": true
   },
   "outputs": [],
   "source": []
  }
 ],
 "metadata": {
  "kernelspec": {
   "display_name": "Python 2",
   "language": "python",
   "name": "python2"
  },
  "language_info": {
   "codemirror_mode": {
    "name": "ipython",
    "version": 2
   },
   "file_extension": ".py",
   "mimetype": "text/x-python",
   "name": "python",
   "nbconvert_exporter": "python",
   "pygments_lexer": "ipython2",
   "version": "2.7.9"
  }
 },
 "nbformat": 4,
 "nbformat_minor": 0
}

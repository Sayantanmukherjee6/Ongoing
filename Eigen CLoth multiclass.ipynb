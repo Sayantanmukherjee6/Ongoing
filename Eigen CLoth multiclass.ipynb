{
 "cells": [
  {
   "cell_type": "code",
   "execution_count": 1,
   "metadata": {
    "collapsed": true
   },
   "outputs": [],
   "source": [
    "#import cv2\n",
    "import numpy as np\n",
    "from glob import glob\n",
    "import os\n",
    "from sklearn.svm import LinearSVC\n",
    "from scipy.cluster.vq import *\n",
    "from sklearn.preprocessing import StandardScaler\n",
    "from PIL import Image\n",
    "import PIL.ImageOps\n",
    "from collections import defaultdict\n",
    "from glob import glob\n",
    "from random import shuffle, seed\n",
    "import pylab as pl\n",
    "import pandas as pd\n",
    "import re\n",
    "from sklearn.decomposition import PCA\n",
    "from sklearn.manifold import TSNE\n",
    "from sklearn import svm"
   ]
  },
  {
   "cell_type": "code",
   "execution_count": 2,
   "metadata": {
    "collapsed": false
   },
   "outputs": [],
   "source": [
    "def img_to_array(filename):\n",
    "    \"\"\"\n",
    "    takes a filename and turns it into a numpy array of RGB pixels\n",
    "    \"\"\"\n",
    "    img = Image.open(filename)\n",
    "    img = list(img.getdata())\n",
    "    #img = map(list, img)\n",
    "    img = np.array(img)\n",
    "    s = img.shape[0] * img.shape[1]\n",
    "    img_wide = img.reshape(1, s)\n",
    "    return img_wide[0]\n",
    "\n",
    "shirt = glob('bag/dataset/shirt_resized/*')\n",
    "collared_tees = glob('bag/dataset/collared_tees_resized/*')\n",
    "normal_tees = glob('bag/dataset/normal_tees_resized/*')\n",
    "\n",
    "process_file = img_to_array\n",
    "\n",
    "raw_data = [(process_file(filename),'shirt',filename) for filename in shirt] + \\\n",
    "           [(process_file(filename),'collared_tees',filename) for filename in collared_tees] + \\\n",
    "           [(process_file(filename),'normal_tees',filename) for filename in normal_tees]\n",
    "\n",
    "# randomly order the data\n",
    "seed(0)\n",
    "shuffle(raw_data)"
   ]
  },
  {
   "cell_type": "code",
   "execution_count": 3,
   "metadata": {
    "collapsed": false
   },
   "outputs": [
    {
     "name": "stderr",
     "output_type": "stream",
     "text": [
      "C:\\Users\\admin\\Anaconda3\\lib\\site-packages\\sklearn\\utils\\validation.py:498: UserWarning: StandardScaler assumes floating point values as input, got int32\n",
      "  \"got %s\" % (estimator, X.dtype))\n"
     ]
    }
   ],
   "source": [
    "data = np.array([cd for (cd,_y,f) in raw_data])\n",
    "labels = np.array([_y for (cd,_y,f) in raw_data])\n",
    "y = [(0 if label == 'collared_tees' else( 1 if label=='normal_tees' else 2 )) for label in labels ]\n",
    "\n",
    "# Scaling the words\n",
    "stdSlr = StandardScaler().fit(data)\n",
    "data = stdSlr.transform(data)\n",
    "\n",
    "from sklearn.cross_validation import train_test_split,cross_val_score,KFold,StratifiedShuffleSplit,StratifiedKFold\n",
    "from sklearn import metrics\n",
    "from sklearn.grid_search import GridSearchCV\n",
    "from sklearn.pipeline import Pipeline\n",
    "\n",
    "X_train, X_test, y_train, y_test = train_test_split(data, y, test_size=0.2, random_state=2)"
   ]
  },
  {
   "cell_type": "code",
   "execution_count": 4,
   "metadata": {
    "collapsed": false
   },
   "outputs": [],
   "source": [
    "pca = PCA(n_components =55, whiten=True) ##55 - 63%\n",
    "X_train = pca.fit_transform(X_train)\n",
    "X_test = pca.transform(X_test)"
   ]
  },
  {
   "cell_type": "code",
   "execution_count": 15,
   "metadata": {
    "collapsed": false
   },
   "outputs": [
    {
     "name": "stdout",
     "output_type": "stream",
     "text": [
      "0.524590163934\n"
     ]
    }
   ],
   "source": [
    "from sklearn.ensemble import RandomForestClassifier\n",
    "clf=RandomForestClassifier(n_estimators=700, \n",
    "                           criterion='gini',\n",
    "                           max_depth=7,\n",
    "                           min_samples_split=2,\n",
    "                           min_samples_leaf=1,\n",
    "                           max_features='sqrt',\n",
    "                           bootstrap=False, \n",
    "                           random_state=40,\n",
    "                           verbose=0) \n",
    "                           #min_density=None, \n",
    "                           #compute_importances=None)\n",
    "\n",
    "clf.fit(X_train, y_train)\n",
    "y_pred = clf.predict(X_test)\n",
    "print (metrics.accuracy_score(y_test, y_pred)) # accuracy = 0.86592178"
   ]
  },
  {
   "cell_type": "code",
   "execution_count": null,
   "metadata": {
    "collapsed": true
   },
   "outputs": [],
   "source": []
  },
  {
   "cell_type": "code",
   "execution_count": 6,
   "metadata": {
    "collapsed": true
   },
   "outputs": [],
   "source": [
    "#from sklearn.grid_search import GridSearchCV\n",
    "from sklearn import cross_validation\n",
    "clf=RandomForestClassifier(n_estimators=700, \n",
    "                           criterion='gini',\n",
    "                           max_depth=7,\n",
    "                           min_samples_split=2,\n",
    "                           min_samples_leaf=1,\n",
    "                           max_features='auto',\n",
    "                           bootstrap=False, \n",
    "                           random_state=1,\n",
    "                           verbose=0, \n",
    "                           min_density=None, \n",
    "                           compute_importances=None)\n",
    "\n",
    "scores = cross_validation.cross_val_score(clf, data, y, cv=10)"
   ]
  },
  {
   "cell_type": "code",
   "execution_count": 8,
   "metadata": {
    "collapsed": false
   },
   "outputs": [
    {
     "data": {
      "text/plain": [
       "array([ 0.59677419,  0.4516129 ,  0.58064516,  0.48387097,  0.59016393,\n",
       "        0.52459016,  0.58333333,  0.59322034,  0.62711864,  0.57627119])"
      ]
     },
     "execution_count": 8,
     "metadata": {},
     "output_type": "execute_result"
    }
   ],
   "source": [
    "scores"
   ]
  },
  {
   "cell_type": "code",
   "execution_count": null,
   "metadata": {
    "collapsed": true
   },
   "outputs": [],
   "source": []
  },
  {
   "cell_type": "code",
   "execution_count": 32,
   "metadata": {
    "collapsed": false
   },
   "outputs": [
    {
     "data": {
      "text/plain": [
       "(128L, 128L)"
      ]
     },
     "execution_count": 32,
     "metadata": {},
     "output_type": "execute_result"
    }
   ],
   "source": [
    "img = cv2.imread(\"bag/test/thumbnails/stest.jpg\",0)\n",
    "\n",
    "#img = list(img.getdata())\n",
    "img = map(list, img)\n",
    "img = np.array(img)\n",
    "s = img.shape[0] * img.shape[1]\n",
    "img_wid = img.reshape(1, s)\n",
    "img.shape"
   ]
  },
  {
   "cell_type": "code",
   "execution_count": 33,
   "metadata": {
    "collapsed": false
   },
   "outputs": [],
   "source": [
    "stdSlr = StandardScaler().fit(img_wid[0])\n",
    "img_wid1 = stdSlr.transform(img_wid[0])"
   ]
  },
  {
   "cell_type": "code",
   "execution_count": 34,
   "metadata": {
    "collapsed": false
   },
   "outputs": [
    {
     "data": {
      "text/plain": [
       "array([ 1.01587,  0.96325, ..., -0.43121, -0.39175])"
      ]
     },
     "execution_count": 34,
     "metadata": {},
     "output_type": "execute_result"
    }
   ],
   "source": [
    "img_wid1"
   ]
  },
  {
   "cell_type": "code",
   "execution_count": 35,
   "metadata": {
    "collapsed": false
   },
   "outputs": [],
   "source": [
    "pca = PCA(n_components =55, whiten=True) ##55 - 63%\n",
    "img_wid1=pca.fit_transform(img)"
   ]
  },
  {
   "cell_type": "code",
   "execution_count": 36,
   "metadata": {
    "collapsed": false
   },
   "outputs": [
    {
     "data": {
      "text/plain": [
       "(128L, 55L)"
      ]
     },
     "execution_count": 36,
     "metadata": {},
     "output_type": "execute_result"
    }
   ],
   "source": [
    "img_wid1.shape"
   ]
  },
  {
   "cell_type": "code",
   "execution_count": 37,
   "metadata": {
    "collapsed": false
   },
   "outputs": [
    {
     "data": {
      "text/plain": [
       "array([0, 0, ..., 1, 1])"
      ]
     },
     "execution_count": 37,
     "metadata": {},
     "output_type": "execute_result"
    }
   ],
   "source": [
    "y_pred = clf.predict(img_wid1)\n",
    "y_pred"
   ]
  },
  {
   "cell_type": "code",
   "execution_count": null,
   "metadata": {
    "collapsed": true
   },
   "outputs": [],
   "source": []
  },
  {
   "cell_type": "code",
   "execution_count": null,
   "metadata": {
    "collapsed": true
   },
   "outputs": [],
   "source": []
  },
  {
   "cell_type": "code",
   "execution_count": 133,
   "metadata": {
    "collapsed": false
   },
   "outputs": [
    {
     "name": "stdout",
     "output_type": "stream",
     "text": [
      "{'random_state': (0, 5, 10, 15, 20, 25, 30, 35, 40, 45, 50, 55, 60, 65, 70, 75, 80, 85, 90, 100, 150, 200)}\n"
     ]
    }
   ],
   "source": [
    "from sklearn.grid_search import GridSearchCV\n",
    "e_range = (0,5,10,15,20,25,30,35,40,45,50,55,60,65,70,75,80,85,90,100,150,200)\n",
    "\n",
    "param_grid = dict(random_state = e_range)                  \n",
    "print param_grid"
   ]
  },
  {
   "cell_type": "code",
   "execution_count": 134,
   "metadata": {
    "collapsed": true
   },
   "outputs": [],
   "source": [
    "from sklearn.ensemble import RandomForestClassifier\n",
    "'''\n",
    "grid_clf = RandomForestClassifier(criterion='entropy',\n",
    "                                  max_depth=None,\n",
    "                                  min_samples_split=1,\n",
    "                                  min_samples_leaf=11,\n",
    "                                  max_features=0.5,\n",
    "                                  n_jobs=-1, \n",
    "                                  random_state=42,\n",
    "                                  min_density=None)\n",
    "                                  '''\n",
    "grid_clf = RandomForestClassifier(n_estimators=700, \n",
    "                           criterion='gini',\n",
    "                           max_depth=7,\n",
    "                           min_samples_split=2,\n",
    "                           min_samples_leaf=1,\n",
    "                           max_features='auto',\n",
    "                           bootstrap=False,n_jobs=-1, \n",
    "                           verbose=0, \n",
    "                           min_density=None, \n",
    "                           compute_importances=None)"
   ]
  },
  {
   "cell_type": "code",
   "execution_count": 135,
   "metadata": {
    "collapsed": true
   },
   "outputs": [],
   "source": [
    "grid =GridSearchCV(grid_clf,param_grid,cv=8,scoring ='accuracy')"
   ]
  },
  {
   "cell_type": "code",
   "execution_count": 136,
   "metadata": {
    "collapsed": false
   },
   "outputs": [
    {
     "data": {
      "text/plain": [
       "GridSearchCV(cv=8,\n",
       "       estimator=RandomForestClassifier(bootstrap=False, compute_importances=None,\n",
       "            criterion='gini', max_depth=7, max_features='auto',\n",
       "            max_leaf_nodes=None, min_density=None, min_samples_leaf=1,\n",
       "            min_samples_split=2, n_estimators=700, n_jobs=-1,\n",
       "            oob_score=False, random_state=None, verbose=0),\n",
       "       fit_params={}, iid=True, loss_func=None, n_jobs=1,\n",
       "       param_grid={'random_state': (0, 5, 10, 15, 20, 25, 30, 35, 40, 45, 50, 55, 60, 65, 70, 75, 80, 85, 90, 100, 150, 200)},\n",
       "       pre_dispatch='2*n_jobs', refit=True, score_func=None,\n",
       "       scoring='accuracy', verbose=0)"
      ]
     },
     "execution_count": 136,
     "metadata": {},
     "output_type": "execute_result"
    }
   ],
   "source": [
    "grid.fit(data,y)"
   ]
  },
  {
   "cell_type": "code",
   "execution_count": 137,
   "metadata": {
    "collapsed": false
   },
   "outputs": [
    {
     "data": {
      "text/plain": [
       "[mean: 0.56837, std: 0.05007, params: {'random_state': 0},\n",
       " mean: 0.55684, std: 0.04116, params: {'random_state': 5},\n",
       " mean: 0.55684, std: 0.04520, params: {'random_state': 10},\n",
       " mean: 0.56178, std: 0.05097, params: {'random_state': 15},\n",
       " mean: 0.56343, std: 0.04315, params: {'random_state': 20},\n",
       " mean: 0.55684, std: 0.03853, params: {'random_state': 25},\n",
       " mean: 0.54860, std: 0.03777, params: {'random_state': 30},\n",
       " mean: 0.57166, std: 0.05362, params: {'random_state': 35},\n",
       " mean: 0.54201, std: 0.03986, params: {'random_state': 40},\n",
       " mean: 0.55519, std: 0.05004, params: {'random_state': 45},\n",
       " mean: 0.56178, std: 0.05072, params: {'random_state': 50},\n",
       " mean: 0.56507, std: 0.05469, params: {'random_state': 55},\n",
       " mean: 0.56343, std: 0.04523, params: {'random_state': 60},\n",
       " mean: 0.56013, std: 0.04403, params: {'random_state': 65},\n",
       " mean: 0.55354, std: 0.04563, params: {'random_state': 70},\n",
       " mean: 0.55189, std: 0.04401, params: {'random_state': 75},\n",
       " mean: 0.56672, std: 0.04917, params: {'random_state': 80},\n",
       " mean: 0.55189, std: 0.03422, params: {'random_state': 85},\n",
       " mean: 0.56507, std: 0.04755, params: {'random_state': 90},\n",
       " mean: 0.56672, std: 0.04829, params: {'random_state': 100},\n",
       " mean: 0.55848, std: 0.05500, params: {'random_state': 150},\n",
       " mean: 0.56837, std: 0.04823, params: {'random_state': 200}]"
      ]
     },
     "execution_count": 137,
     "metadata": {},
     "output_type": "execute_result"
    }
   ],
   "source": [
    "grid.grid_scores_"
   ]
  },
  {
   "cell_type": "code",
   "execution_count": null,
   "metadata": {
    "collapsed": true
   },
   "outputs": [],
   "source": []
  }
 ],
 "metadata": {
  "kernelspec": {
   "display_name": "Python 3",
   "language": "python",
   "name": "python3"
  },
  "language_info": {
   "codemirror_mode": {
    "name": "ipython",
    "version": 3
   },
   "file_extension": ".py",
   "mimetype": "text/x-python",
   "name": "python",
   "nbconvert_exporter": "python",
   "pygments_lexer": "ipython3",
   "version": "3.4.3"
  }
 },
 "nbformat": 4,
 "nbformat_minor": 0
}

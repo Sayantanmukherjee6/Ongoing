{
 "cells": [
  {
   "cell_type": "code",
   "execution_count": 1,
   "metadata": {
    "collapsed": false
   },
   "outputs": [
    {
     "name": "stderr",
     "output_type": "stream",
     "text": [
      "WARNING (theano.configdefaults): g++ not detected ! Theano will be unable to execute optimized C-implementations (for both CPU and GPU) and will default to Python implementations. Performance will be severely degraded. To remove this warning, set Theano flags cxx to an empty string.\n",
      "WARNING:theano.configdefaults:g++ not detected ! Theano will be unable to execute optimized C-implementations (for both CPU and GPU) and will default to Python implementations. Performance will be severely degraded. To remove this warning, set Theano flags cxx to an empty string.\n"
     ]
    }
   ],
   "source": [
    "import numpy as np\n",
    "import matplotlib.pyplot as plt\n",
    "from glob import glob\n",
    "import os\n",
    "from scipy.cluster.vq import *\n",
    "from glob import glob\n",
    "from random import shuffle, seed\n",
    "from sklearn import metrics\n",
    "from __future__ import print_function\n",
    "#import cv2\n",
    "import time\n",
    "import numpy as np\n",
    "import theano\n",
    "import theano.tensor as T\n",
    "import matplotlib.cm as cm\n",
    "import lasagne\n",
    "from lasagne import layers\n",
    "from lasagne.updates import nesterov_momentum\n",
    "from nolearn.lasagne import NeuralNet\n",
    "from nolearn.lasagne import visualize\n",
    "from sklearn.metrics import classification_report\n",
    "from sklearn.metrics import confusion_matrix\n",
    "from sklearn.cross_validation import train_test_split"
   ]
  },
  {
   "cell_type": "code",
   "execution_count": 10,
   "metadata": {
    "collapsed": false
   },
   "outputs": [],
   "source": [
    "def img_to_matrix(filename):\n",
    "    \"\"\"\n",
    "    takes a filename and turns it into a numpy array of RGB pixels\n",
    "    \"\"\"\n",
    "    img = cv2.imread(filename,0)\n",
    "    #img = list(img.getdata())\n",
    "    #img = map(list, img)\n",
    "    img = np.array(img)\n",
    "    #s = img.shape[0] * img.shape[1]\n",
    "    #img_wide = img.reshape(1, s)\n",
    "    return img\n",
    "\n",
    "shirt = glob('bag/dataset/100/shirt_resized/*')\n",
    "collared_tees = glob('bag/dataset/100/collared_tees_resized/*')\n",
    "normal_tees = glob('bag/dataset/100/normal_tees_resized/*')\n",
    "\n",
    "process_file = img_to_matrix\n",
    "\n",
    "raw_data = [(process_file(filename),'shirt',filename) for filename in shirt] + \\\n",
    "           [(process_file(filename),'collared_tees',filename) for filename in collared_tees] + \\\n",
    "           [(process_file(filename),'normal_tees',filename) for filename in normal_tees]\n",
    "\n",
    "# randomly order the data\n",
    "seed(0)\n",
    "shuffle(raw_data)"
   ]
  },
  {
   "cell_type": "code",
   "execution_count": 11,
   "metadata": {
    "collapsed": true
   },
   "outputs": [],
   "source": [
    "data = np.array([cd for (cd,_y,f) in raw_data])\n",
    "labels = np.array([_y for (cd,_y,f) in raw_data])\n",
    "y = [(0 if label == 'collared_tees' else( 1 if label=='normal_tees' else 2 )) for label in labels]"
   ]
  },
  {
   "cell_type": "code",
   "execution_count": 12,
   "metadata": {
    "collapsed": false
   },
   "outputs": [],
   "source": [
    "data = data.reshape(-1, 1, 100, 100)"
   ]
  },
  {
   "cell_type": "code",
   "execution_count": 13,
   "metadata": {
    "collapsed": false
   },
   "outputs": [],
   "source": [
    "X_train, X_test, y_train, y_test = train_test_split(data, y, test_size=0.2, random_state=2)"
   ]
  },
  {
   "cell_type": "code",
   "execution_count": 14,
   "metadata": {
    "collapsed": false,
    "scrolled": true
   },
   "outputs": [
    {
     "data": {
      "text/plain": [
       "(498, 1, 100, 100)"
      ]
     },
     "execution_count": 14,
     "metadata": {},
     "output_type": "execute_result"
    }
   ],
   "source": [
    "X_train.shape"
   ]
  },
  {
   "cell_type": "code",
   "execution_count": 15,
   "metadata": {
    "collapsed": false
   },
   "outputs": [
    {
     "data": {
      "text/plain": [
       "(498,)"
      ]
     },
     "execution_count": 15,
     "metadata": {},
     "output_type": "execute_result"
    }
   ],
   "source": [
    "np.asarray(y_train).shape"
   ]
  },
  {
   "cell_type": "code",
   "execution_count": null,
   "metadata": {
    "collapsed": true
   },
   "outputs": [],
   "source": [
    "'''\n",
    "    # layer maxpool2\n",
    "    maxpool2_pool_size=(5, 5),\n",
    "   \n",
    "    # layer conv2d3\n",
    "    conv2d3_num_filters=55,\n",
    "    conv2d3_filter_size=(2, 2),\n",
    "    conv2d3_nonlinearity=lasagne.nonlinearities.rectify,\n",
    "    '''"
   ]
  },
  {
   "cell_type": "code",
   "execution_count": null,
   "metadata": {
    "collapsed": false
   },
   "outputs": [
    {
     "name": "stdout",
     "output_type": "stream",
     "text": [
      "# Neural Network with 353473 learnable parameters\n",
      "\n",
      "## Layer information\n",
      "\n",
      "  #  name      size\n",
      "---  --------  ---------\n",
      "  0  input     1x100x100\n",
      "  1  conv2d1   20x81x81\n",
      "  2  maxpool1  20x16x16\n",
      "  3  conv2d2   50x7x7\n",
      "  4  dense     100\n",
      "  5  dropout2  100\n",
      "  6  output    3\n",
      "\n"
     ]
    }
   ],
   "source": [
    "net1 = NeuralNet(\n",
    "    layers=[('input', layers.InputLayer),\n",
    "            ('conv2d1', layers.Conv2DLayer),\n",
    "            ('maxpool1', layers.MaxPool2DLayer),\n",
    "            ('conv2d2', layers.Conv2DLayer),\n",
    "            #('dropout1', layers.DropoutLayer),\n",
    "            ('dense', layers.DenseLayer),\n",
    "            ('dropout2', layers.DropoutLayer),\n",
    "            ('output', layers.DenseLayer),\n",
    "            ],\n",
    "    # input layer\n",
    "    input_shape=(None, 1, 100, 100),\n",
    "    # layer conv2d1\n",
    "    conv2d1_num_filters=20,\n",
    "    conv2d1_filter_size=(20, 20),\n",
    "    conv2d1_nonlinearity=lasagne.nonlinearities.rectify,\n",
    "    conv2d1_W=lasagne.init.GlorotUniform(),  \n",
    "    # layer maxpool1\n",
    "    maxpool1_pool_size=(5, 5),    \n",
    "    # layer conv2d2\n",
    "    conv2d2_num_filters=50,\n",
    "    conv2d2_filter_size=(10, 10),\n",
    "    conv2d2_nonlinearity=lasagne.nonlinearities.rectify,\n",
    "    \n",
    "   # dropout1\n",
    "    #dropout1_p=0.5,    \n",
    "    # dense\n",
    "    dense_num_units=100,#300\n",
    "    dense_nonlinearity=lasagne.nonlinearities.rectify, #tanh   \n",
    "    # dropout2\n",
    "    dropout2_p=0.5,    \n",
    "    # output\n",
    "    output_nonlinearity=lasagne.nonlinearities.softmax,\n",
    "    output_num_units=3,\n",
    "    # optimization method params\n",
    "    update=nesterov_momentum,\n",
    "    update_learning_rate=0.001,\n",
    "    update_momentum=0.9,\n",
    "    max_epochs=5,\n",
    "    verbose=1,\n",
    "    )\n",
    "\n",
    "nn = net1.fit(X_train, np.asarray(y_train))"
   ]
  },
  {
   "cell_type": "code",
   "execution_count": 12,
   "metadata": {
    "collapsed": false,
    "scrolled": true
   },
   "outputs": [
    {
     "name": "stdout",
     "output_type": "stream",
     "text": [
      "# Neural Network with 26372 learnable parameters\n",
      "\n",
      "## Layer information\n",
      "\n",
      "  #  name      size\n",
      "---  --------  ---------\n",
      "  0  input     1x100x100\n",
      "  1  conv2d1   13x94x94\n",
      "  2  maxpool1  13x18x18\n",
      "  3  conv2d2   17x13x13\n",
      "  4  maxpool2  17x6x6\n",
      "  5  conv2d3   21x2x2\n",
      "  6  dropout1  21x2x2\n",
      "  7  dense     100\n",
      "  8  dropout2  100\n",
      "  9  output    3\n",
      "\n",
      "  epoch    train loss    valid loss    train/val    valid acc  dur\n",
      "-------  ------------  ------------  -----------  -----------  --------\n",
      "      1      \u001b[36m22.43273\u001b[0m       \u001b[32m1.19431\u001b[0m     18.78298      0.28713  2558.51s\n",
      "      2       \u001b[36m1.17997\u001b[0m       \u001b[32m1.10732\u001b[0m      1.06561      0.32673  2519.09s\n",
      "      3       \u001b[36m1.11394\u001b[0m       \u001b[32m1.09665\u001b[0m      1.01577      0.34653  2573.15s\n",
      "      4       \u001b[36m1.10514\u001b[0m       \u001b[32m1.09412\u001b[0m      1.01007      0.35644  2350.97s\n",
      "      5       \u001b[36m1.10312\u001b[0m       \u001b[32m1.09377\u001b[0m      1.00854      0.31683  2490.86s\n"
     ]
    }
   ],
   "source": [
    "'''\n",
    "net1 = NeuralNet(\n",
    "    layers=[('input', layers.InputLayer),\n",
    "            ('conv2d1', layers.Conv2DLayer),\n",
    "            ('maxpool1', layers.MaxPool2DLayer),\n",
    "            ('conv2d2', layers.Conv2DLayer),\n",
    "            ('maxpool2', layers.MaxPool2DLayer),\n",
    "            ('conv2d3', layers.Conv2DLayer),\n",
    "            #('maxpool2', layers.MaxPool2DLayer),\n",
    "            ('dropout1', layers.DropoutLayer),\n",
    "            ('dense', layers.DenseLayer),\n",
    "            ('dropout2', layers.DropoutLayer),\n",
    "            ('output', layers.DenseLayer),\n",
    "            ],\n",
    "    # input layer\n",
    "    input_shape=(None, 1, 100, 100),\n",
    "    # layer conv2d1\n",
    "    conv2d1_num_filters=13,\n",
    "    conv2d1_filter_size=(7, 7),\n",
    "    conv2d1_nonlinearity=lasagne.nonlinearities.rectify,\n",
    "    conv2d1_W=lasagne.init.GlorotUniform(),  \n",
    "    # layer maxpool1\n",
    "    maxpool1_pool_size=(5, 5),    \n",
    "    # layer conv2d2\n",
    "    conv2d2_num_filters=17,\n",
    "    conv2d2_filter_size=(6, 6),\n",
    "    conv2d2_nonlinearity=lasagne.nonlinearities.rectify,\n",
    "    # layer maxpool2\n",
    "    maxpool2_pool_size=(2, 2),\n",
    "   \n",
    "    # layer conv2d3\n",
    "    conv2d3_num_filters=21,\n",
    "    conv2d3_filter_size=(5, 5),\n",
    "    conv2d3_nonlinearity=lasagne.nonlinearities.rectify,\n",
    "   # dropout1\n",
    "    dropout1_p=0.5,    \n",
    "    # dense\n",
    "    dense_num_units=100,#300\n",
    "    dense_nonlinearity=lasagne.nonlinearities.rectify, #tanh   \n",
    "    # dropout2\n",
    "    dropout2_p=0.5,    \n",
    "    # output\n",
    "    output_nonlinearity=lasagne.nonlinearities.softmax,\n",
    "    output_num_units=3,\n",
    "    # optimization method params\n",
    "    update=nesterov_momentum,\n",
    "    update_learning_rate=0.001,\n",
    "    update_momentum=0.9,\n",
    "    max_epochs=5,\n",
    "    verbose=1,\n",
    "    )\n",
    "\n",
    "nn = net1.fit(X_train, np.asarray(y_train))\n",
    "'''"
   ]
  },
  {
   "cell_type": "code",
   "execution_count": null,
   "metadata": {
    "collapsed": true
   },
   "outputs": [],
   "source": [
    "import cPickle as pickle\n",
    "with open('net1.pickle', 'wb') as f:\n",
    "    pickle.dump(net2, f, -1)"
   ]
  },
  {
   "cell_type": "code",
   "execution_count": null,
   "metadata": {
    "collapsed": false
   },
   "outputs": [],
   "source": [
    "visualize.plot_conv_weights(net1.layers_['conv2d2'])"
   ]
  },
  {
   "cell_type": "code",
   "execution_count": 62,
   "metadata": {
    "collapsed": false
   },
   "outputs": [],
   "source": [
    "plt.show()"
   ]
  },
  {
   "cell_type": "code",
   "execution_count": 11,
   "metadata": {
    "collapsed": true
   },
   "outputs": [],
   "source": [
    "preds = net1.predict(X_test)"
   ]
  },
  {
   "cell_type": "code",
   "execution_count": 12,
   "metadata": {
    "collapsed": false
   },
   "outputs": [
    {
     "name": "stdout",
     "output_type": "stream",
     "text": [
      "0.328125\n"
     ]
    }
   ],
   "source": [
    "print (metrics.accuracy_score(np.asarray(y_test), preds))"
   ]
  },
  {
   "cell_type": "code",
   "execution_count": null,
   "metadata": {
    "collapsed": true
   },
   "outputs": [],
   "source": []
  },
  {
   "cell_type": "code",
   "execution_count": null,
   "metadata": {
    "collapsed": true
   },
   "outputs": [],
   "source": []
  },
  {
   "cell_type": "code",
   "execution_count": null,
   "metadata": {
    "collapsed": true
   },
   "outputs": [],
   "source": []
  },
  {
   "cell_type": "code",
   "execution_count": null,
   "metadata": {
    "collapsed": true
   },
   "outputs": [],
   "source": []
  },
  {
   "cell_type": "markdown",
   "metadata": {},
   "source": [
    "net1 = NeuralNet(\n",
    "    layers=[('input', layers.InputLayer),\n",
    "            ('conv2d1', layers.Conv2DLayer),\n",
    "            ('maxpool1', layers.MaxPool2DLayer),\n",
    "            ('conv2d2', layers.Conv2DLayer),\n",
    "            #('maxpool2', layers.MaxPool2DLayer),\n",
    "            ('dropout1', layers.DropoutLayer),\n",
    "            ('dense', layers.DenseLayer),\n",
    "            ('dropout2', layers.DropoutLayer),\n",
    "            ('output', layers.DenseLayer),\n",
    "            ],\n",
    "    # input layer\n",
    "    input_shape=(None, 1, 50, 50),\n",
    "    # layer conv2d1\n",
    "    conv2d1_num_filters=32,\n",
    "    conv2d1_filter_size=(3, 3),\n",
    "    conv2d1_nonlinearity=lasagne.nonlinearities.rectify,\n",
    "    conv2d1_W=lasagne.init.GlorotUniform(),  \n",
    "    # layer maxpool1\n",
    "    maxpool1_pool_size=(2, 2),    \n",
    "    # layer conv2d2\n",
    "    conv2d2_num_filters=64,\n",
    "    conv2d2_filter_size=(3, 3),\n",
    "    conv2d2_nonlinearity=lasagne.nonlinearities.rectify,\n",
    "    # layer maxpool2\n",
    "    #maxpool2_pool_size=(2, 2),\n",
    "   # dropout1\n",
    "    dropout1_p=0.5,    \n",
    "    # dense\n",
    "    dense_num_units=250,\n",
    "    dense_nonlinearity=lasagne.nonlinearities.rectify,    \n",
    "    # dropout2\n",
    "    dropout2_p=0.5,    \n",
    "    # output\n",
    "    output_nonlinearity=lasagne.nonlinearities.softmax,\n",
    "    output_num_units=3,\n",
    "    # optimization method params\n",
    "    update=nesterov_momentum,\n",
    "    update_learning_rate=0.01,\n",
    "    update_momentum=0.9,\n",
    "    max_epochs=5,\n",
    "    verbose=1,\n",
    "    )\n",
    "\n",
    "\n",
    "nn = net1.fit(X_train, np.asarray(y_train))"
   ]
  }
 ],
 "metadata": {
  "kernelspec": {
   "display_name": "Python 2",
   "language": "python",
   "name": "python2"
  },
  "language_info": {
   "codemirror_mode": {
    "name": "ipython",
    "version": 2
   },
   "file_extension": ".py",
   "mimetype": "text/x-python",
   "name": "python",
   "nbconvert_exporter": "python",
   "pygments_lexer": "ipython2",
   "version": "2.7.12"
  }
 },
 "nbformat": 4,
 "nbformat_minor": 0
}
